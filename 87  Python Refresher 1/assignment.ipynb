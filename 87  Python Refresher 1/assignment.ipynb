{
 "cells": [
  {
   "cell_type": "code",
   "execution_count": 30,
   "metadata": {},
   "outputs": [
    {
     "data": {
      "text/plain": [
       "[[1, 2, 3], [2], [3, [4, 5]]]"
      ]
     },
     "execution_count": 30,
     "metadata": {},
     "output_type": "execute_result"
    }
   ],
   "source": [
    "lst1 = [[1, 2, 3], [2], [3, [4, 5]]]\n",
    "lst1"
   ]
  },
  {
   "cell_type": "code",
   "execution_count": 33,
   "metadata": {},
   "outputs": [
    {
     "data": {
      "text/plain": [
       "[1, 2, 2, 3, 3, 4, 5]"
      ]
     },
     "execution_count": 33,
     "metadata": {},
     "output_type": "execute_result"
    }
   ],
   "source": [
    "def flatten_list(nested_list):\n",
    "    flattened = []\n",
    "    for item in nested_list:\n",
    "        if isinstance(item, list):\n",
    "            flattened.extend(flatten_list(item))\n",
    "        else:\n",
    "            flattened.append(item)\n",
    "    return flattened\n",
    "\n",
    "    \n",
    "\n",
    "def flatten(arr):\n",
    "    '''\n",
    "    input:\n",
    "    arr -> given nested python list\n",
    "    \n",
    "    output:\n",
    "    res_arr -> the nested list, flattened and sorted\n",
    "    '''\n",
    "    res_arr = []\n",
    "    \n",
    "    res_arr = flatten_list(arr)\n",
    "\n",
    "    # Your Code Ends here\n",
    "    return sorted(res_arr)\n",
    "\n",
    "flatten(lst1)"
   ]
  },
  {
   "cell_type": "code",
   "execution_count": 34,
   "metadata": {},
   "outputs": [
    {
     "name": "stdout",
     "output_type": "stream",
     "text": [
      "8\n"
     ]
    }
   ],
   "source": [
    "# ques 7\n",
    "a=8\n",
    "if False:\n",
    "    a=9\n",
    "\n",
    "def check():\n",
    "    if True:\n",
    "        a=10\n",
    "\n",
    "check()\n",
    "print(a)"
   ]
  },
  {
   "cell_type": "markdown",
   "metadata": {},
   "source": [
    "Additionals"
   ]
  },
  {
   "cell_type": "code",
   "execution_count": 49,
   "metadata": {},
   "outputs": [
    {
     "data": {
      "text/plain": [
       "['hellodear', 'hellobye', 'gooddear', 'goodbye']"
      ]
     },
     "execution_count": 49,
     "metadata": {},
     "output_type": "execute_result"
    }
   ],
   "source": [
    "# 1\n",
    "[a+b for a in [\"hello\",\"good\"] for b in [\"dear\", \"bye\"]]"
   ]
  },
  {
   "cell_type": "code",
   "execution_count": 77,
   "metadata": {},
   "outputs": [
    {
     "name": "stdout",
     "output_type": "stream",
     "text": [
      "13 6\n",
      "78\n",
      "78 17\n",
      "1326\n",
      "1326 18\n",
      "3978\n",
      "3978 19\n",
      "75582\n",
      "75582 20\n",
      "755820\n",
      "755820 37\n",
      "27965340\n",
      "27965340\n"
     ]
    }
   ],
   "source": [
    "# 3\n",
    "import math\n",
    "arr = [13, 6, 17, 18, 19, 20, 37]\n",
    "\n",
    "\n",
    "def get_lcm(a,b):\n",
    "    lowest_ele = a\n",
    "    if a > b:\n",
    "        lowest_ele = b\n",
    "\n",
    "    while lowest_ele:\n",
    "        flag = True\n",
    "        if a%lowest_ele!=0 or b%lowest_ele!=0:\n",
    "            flag = False\n",
    "\n",
    "        if flag:\n",
    "            break\n",
    "\n",
    "        if not flag and (lowest_ele==a or lowest_ele==b):\n",
    "            lowest_ele = int(lowest_ele/2) +1 \n",
    "\n",
    "        lowest_ele -= 1\n",
    "\n",
    "    return int((a*b)/lowest_ele)\n",
    "\n",
    "\n",
    "a = arr[0]\n",
    "for i in range(1, len(arr)):\n",
    "    lcm = get_lcm(a, arr[i])\n",
    "    a=lcm\n",
    "\n",
    "print(a)"
   ]
  },
  {
   "cell_type": "code",
   "execution_count": 78,
   "metadata": {},
   "outputs": [
    {
     "name": "stdout",
     "output_type": "stream",
     "text": [
      "[4, 3, 2]\n"
     ]
    }
   ],
   "source": [
    "# 4\n",
    "\n",
    "ch1 = [[2,3,2],[4,3,2],[1,2,1]]\n",
    "print(max(ch1, key=sum))"
   ]
  },
  {
   "cell_type": "code",
   "execution_count": 91,
   "metadata": {},
   "outputs": [
    {
     "data": {
      "text/plain": [
       "(['Guava', 'Berry', 'Cherry', 'Papaya'],\n",
       " ['Guava', 'Berry', 'Cherry', 'Papaya'],\n",
       " ['Apple', 'Kiwi', 'Cherry', 'Papaya'])"
      ]
     },
     "execution_count": 91,
     "metadata": {},
     "output_type": "execute_result"
    }
   ],
   "source": [
    "#5\n",
    "\n",
    "list1 = ['Apple', 'Berry', 'Cherry', 'Papaya']\n",
    "list2 = list1\n",
    "list3 = list1[:]\n",
    "\n",
    "list2[0] = 'Guava'\n",
    "list3[1] = 'Kiwi'\n",
    "\n",
    "list1, list2, list3"
   ]
  },
  {
   "cell_type": "code",
   "execution_count": null,
   "metadata": {},
   "outputs": [],
   "source": []
  }
 ],
 "metadata": {
  "kernelspec": {
   "display_name": ".venv",
   "language": "python",
   "name": "python3"
  },
  "language_info": {
   "codemirror_mode": {
    "name": "ipython",
    "version": 3
   },
   "file_extension": ".py",
   "mimetype": "text/x-python",
   "name": "python",
   "nbconvert_exporter": "python",
   "pygments_lexer": "ipython3",
   "version": "3.10.12"
  },
  "orig_nbformat": 4
 },
 "nbformat": 4,
 "nbformat_minor": 2
}
