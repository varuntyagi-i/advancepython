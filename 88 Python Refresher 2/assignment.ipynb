{
 "cells": [
  {
   "cell_type": "code",
   "execution_count": 1,
   "metadata": {},
   "outputs": [
    {
     "name": "stdout",
     "output_type": "stream",
     "text": [
      "9\n"
     ]
    }
   ],
   "source": [
    "# 1\n",
    "lis = [(0, 2), (1, 3), (2, 4)]\n",
    "result = sum (n for _, n in lis)\n",
    "print(result)"
   ]
  },
  {
   "cell_type": "code",
   "execution_count": 6,
   "metadata": {},
   "outputs": [
    {
     "data": {
      "text/plain": [
       "[(1, 2), (2, 2), (2, 3), (3, 2)]"
      ]
     },
     "execution_count": 6,
     "metadata": {},
     "output_type": "execute_result"
    }
   ],
   "source": [
    "#3\n",
    "import numpy as np\n",
    "lis = [(1,2), (2,3), (2,2), (3,2)]\n",
    "pnt = (0,0)\n",
    "ans = []\n",
    "dist_ind = {}\n",
    "\n",
    "for ind_val, coor in enumerate(lis):\n",
    "    dist_ind[ind_val] = np.sqrt((coor[0]-pnt[0])**2 + (coor[1]-pnt[1])**2)\n",
    "\n",
    "dist_ind = dict(sorted(dist_ind.items(), key=lambda item: item[1]))\n",
    "\n",
    "for value in dist_ind.keys():\n",
    "    ans.append(lis[value])\n",
    "    if len(ans) == 5:\n",
    "        break\n",
    "\n",
    "ans\n",
    "# print([op_res[dist] for dist in sorted(op_res)][:5])"
   ]
  },
  {
   "cell_type": "code",
   "execution_count": 9,
   "metadata": {},
   "outputs": [
    {
     "data": {
      "text/plain": [
       "'hello'"
      ]
     },
     "execution_count": 9,
     "metadata": {},
     "output_type": "execute_result"
    }
   ],
   "source": [
    "# 5\n",
    "arr = [ 'hi', 'this', 'is', 'hi', 'hello', 'hello', 'this', 'hello', 'hello', 'hi', 'hi', 'him', 'hello']\n",
    "output_ans = {}\n",
    "for ele in arr:\n",
    "    if ele not in output_ans:\n",
    "        output_ans[ele] = 1\n",
    "    else:\n",
    "        output_ans[ele] += 1\n",
    "\n",
    "sorted(output_ans.items(), key=lambda x: x[1])[-1][0]"
   ]
  },
  {
   "cell_type": "code",
   "execution_count": 10,
   "metadata": {},
   "outputs": [
    {
     "data": {
      "text/plain": [
       "{'a', 'h', 'p', 'y'}"
      ]
     },
     "execution_count": 10,
     "metadata": {},
     "output_type": "execute_result"
    }
   ],
   "source": [
    "# 6\n",
    "set(\"happy\")"
   ]
  },
  {
   "cell_type": "code",
   "execution_count": 12,
   "metadata": {},
   "outputs": [
    {
     "data": {
      "text/plain": [
       "'blue is sky the'"
      ]
     },
     "execution_count": 12,
     "metadata": {},
     "output_type": "execute_result"
    }
   ],
   "source": [
    "# 7\n",
    "A = \"the sky is blue\"\n",
    "\" \".join(A.split(\" \")[::-1])"
   ]
  },
  {
   "cell_type": "markdown",
   "metadata": {},
   "source": []
  },
  {
   "cell_type": "markdown",
   "metadata": {},
   "source": [
    "Additional Problems"
   ]
  },
  {
   "cell_type": "code",
   "execution_count": 16,
   "metadata": {},
   "outputs": [
    {
     "data": {
      "text/plain": [
       "([(2, 3), (1, 2), (5, 6)], [(2, 3), (1, 2), (5, 6)])"
      ]
     },
     "execution_count": 16,
     "metadata": {},
     "output_type": "execute_result"
    }
   ],
   "source": [
    "# 1\n",
    "arr = [(1,2),(2,3),(2,3),(1,2),(5,6)]\n",
    "list(set(set([i for i in arr]))), [ item for item in set (tuple(i) for i in arr )]"
   ]
  },
  {
   "cell_type": "code",
   "execution_count": 17,
   "metadata": {},
   "outputs": [
    {
     "data": {
      "text/plain": [
       "[(1, 2), (2, 3), (5, 6)]"
      ]
     },
     "execution_count": 17,
     "metadata": {},
     "output_type": "execute_result"
    }
   ],
   "source": [
    "[ (a,b) for i, [a,b] in enumerate(arr) if not any ((d==b and a==c) for c, d in arr[ : i])]"
   ]
  },
  {
   "cell_type": "code",
   "execution_count": 6,
   "metadata": {},
   "outputs": [
    {
     "data": {
      "text/plain": [
       "(False, True)"
      ]
     },
     "execution_count": 6,
     "metadata": {},
     "output_type": "execute_result"
    }
   ],
   "source": [
    "# not any((True, False, False)), all((True, False, False)) \n",
    "not any([True,True,True]), all([True,True, True]) "
   ]
  },
  {
   "cell_type": "code",
   "execution_count": 37,
   "metadata": {},
   "outputs": [
    {
     "name": "stdout",
     "output_type": "stream",
     "text": [
      "[50, 5, 12]\n",
      "({'Arun': [25, 3, 7], 'Nihal': [50, 5, 12], 'Sanjay': [10, 4, 3]}, 'Nihal')\n"
     ]
    }
   ],
   "source": [
    "# 2\n",
    "names = [\"Arun\", \"Nihal\", \"Sanjay\"]\n",
    "runs = [25,50,10]\n",
    "wickets = [3,5,4]\n",
    "bowls = [7,12,3]\n",
    "data = {}\n",
    "for i, name in enumerate(names):\n",
    "    strikrate = runs[i]/bowls[i]\n",
    "    wicket = wickets[i]\n",
    "    data[name] = [runs[i], wickets[i], bowls[i]]\n",
    "    if (strikrate>4 and wicket>2) or ((strikrate<4 and strikrate>2) and wicket>4):\n",
    "        manOfMatch = name\n",
    "\n",
    "print((data, manOfMatch))"
   ]
  },
  {
   "cell_type": "code",
   "execution_count": 64,
   "metadata": {},
   "outputs": [
    {
     "data": {
      "text/plain": [
       "[10, 10, 12, 12, 12, 12, 4, 4, 4]"
      ]
     },
     "execution_count": 64,
     "metadata": {},
     "output_type": "execute_result"
    }
   ],
   "source": [
    "# 3\n",
    "input_data = \"_,_,30,_,_,_,50,_,_\"\n",
    "arr_lst = []\n",
    "chkcnt = 0\n",
    "prev_val = 0\n",
    "for value in input_data.split(\",\"):\n",
    "    chkcnt += 1\n",
    "    if value != \"_\":\n",
    "        if len(arr_lst)>=1:\n",
    "            chkcnt+=1\n",
    "        prev_val = int((int(value)+prev_val)/chkcnt)\n",
    "        arr_lst.append([prev_val]*chkcnt)\n",
    "        chkcnt = 0\n",
    "\n",
    "arr_lst.append([int(prev_val/(chkcnt+1))]*(chkcnt+2))\n",
    "\n",
    "filled_data = []\n",
    "for ele in arr_lst:\n",
    "    filled_data += ele[:-1]\n",
    "filled_data\n"
   ]
  },
  {
   "cell_type": "code",
   "execution_count": null,
   "metadata": {},
   "outputs": [],
   "source": []
  }
 ],
 "metadata": {
  "kernelspec": {
   "display_name": ".venv",
   "language": "python",
   "name": "python3"
  },
  "language_info": {
   "codemirror_mode": {
    "name": "ipython",
    "version": 3
   },
   "file_extension": ".py",
   "mimetype": "text/x-python",
   "name": "python",
   "nbconvert_exporter": "python",
   "pygments_lexer": "ipython3",
   "version": "3.10.12"
  },
  "orig_nbformat": 4
 },
 "nbformat": 4,
 "nbformat_minor": 2
}
