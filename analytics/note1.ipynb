{
 "cells": [
  {
   "cell_type": "code",
   "execution_count": 2,
   "metadata": {},
   "outputs": [],
   "source": [
    "import pandas as pd"
   ]
  },
  {
   "cell_type": "code",
   "execution_count": 4,
   "metadata": {},
   "outputs": [],
   "source": [
    "data = {\n",
    "'Order ID': [101, 102, 103, 104, 105],\n",
    "'Product': ['Product A', 'Product B', 'Product C', 'Product A', 'Product B'],\n",
    "'Quantity': [10, 5, 8, 12, 6],\n",
    "'Unit Price': [20.00, 25.00, 15.00, 20.00, 25.00],\n",
    "'Discount': [0.05, 0.10, 0.05, 0.05, 0.10],\n",
    "'Customer Name': ['John Smith', 'Jane Doe', 'Robert Johnson', 'Mary Brown', 'Susan Lee'],\n",
    "'Order Date': ['2023-01-15', '2023-01-18', '2023-02-02', '2023-02-10', '2023-02-15']\n",
    "}\n",
    "# Create a DataFrame from the data dictionary\n",
    "df = pd.DataFrame(data)\n",
    "\n",
    "# Convert the 'Order Date' column to datetime\n",
    "df['Order Date'] = pd.to_datetime(df['Order Date'])\n"
   ]
  },
  {
   "cell_type": "code",
   "execution_count": 5,
   "metadata": {},
   "outputs": [
    {
     "data": {
      "text/html": [
       "<div>\n",
       "<style scoped>\n",
       "    .dataframe tbody tr th:only-of-type {\n",
       "        vertical-align: middle;\n",
       "    }\n",
       "\n",
       "    .dataframe tbody tr th {\n",
       "        vertical-align: top;\n",
       "    }\n",
       "\n",
       "    .dataframe thead th {\n",
       "        text-align: right;\n",
       "    }\n",
       "</style>\n",
       "<table border=\"1\" class=\"dataframe\">\n",
       "  <thead>\n",
       "    <tr style=\"text-align: right;\">\n",
       "      <th></th>\n",
       "      <th>Order ID</th>\n",
       "      <th>Product</th>\n",
       "      <th>Quantity</th>\n",
       "      <th>Unit Price</th>\n",
       "      <th>Discount</th>\n",
       "      <th>Customer Name</th>\n",
       "      <th>Order Date</th>\n",
       "    </tr>\n",
       "  </thead>\n",
       "  <tbody>\n",
       "    <tr>\n",
       "      <th>0</th>\n",
       "      <td>101</td>\n",
       "      <td>Product A</td>\n",
       "      <td>10</td>\n",
       "      <td>20.0</td>\n",
       "      <td>0.05</td>\n",
       "      <td>John Smith</td>\n",
       "      <td>2023-01-15</td>\n",
       "    </tr>\n",
       "    <tr>\n",
       "      <th>1</th>\n",
       "      <td>102</td>\n",
       "      <td>Product B</td>\n",
       "      <td>5</td>\n",
       "      <td>25.0</td>\n",
       "      <td>0.10</td>\n",
       "      <td>Jane Doe</td>\n",
       "      <td>2023-01-18</td>\n",
       "    </tr>\n",
       "    <tr>\n",
       "      <th>2</th>\n",
       "      <td>103</td>\n",
       "      <td>Product C</td>\n",
       "      <td>8</td>\n",
       "      <td>15.0</td>\n",
       "      <td>0.05</td>\n",
       "      <td>Robert Johnson</td>\n",
       "      <td>2023-02-02</td>\n",
       "    </tr>\n",
       "    <tr>\n",
       "      <th>3</th>\n",
       "      <td>104</td>\n",
       "      <td>Product A</td>\n",
       "      <td>12</td>\n",
       "      <td>20.0</td>\n",
       "      <td>0.05</td>\n",
       "      <td>Mary Brown</td>\n",
       "      <td>2023-02-10</td>\n",
       "    </tr>\n",
       "    <tr>\n",
       "      <th>4</th>\n",
       "      <td>105</td>\n",
       "      <td>Product B</td>\n",
       "      <td>6</td>\n",
       "      <td>25.0</td>\n",
       "      <td>0.10</td>\n",
       "      <td>Susan Lee</td>\n",
       "      <td>2023-02-15</td>\n",
       "    </tr>\n",
       "  </tbody>\n",
       "</table>\n",
       "</div>"
      ],
      "text/plain": [
       "   Order ID    Product  Quantity  Unit Price  Discount   Customer Name  \\\n",
       "0       101  Product A        10        20.0      0.05      John Smith   \n",
       "1       102  Product B         5        25.0      0.10        Jane Doe   \n",
       "2       103  Product C         8        15.0      0.05  Robert Johnson   \n",
       "3       104  Product A        12        20.0      0.05      Mary Brown   \n",
       "4       105  Product B         6        25.0      0.10       Susan Lee   \n",
       "\n",
       "  Order Date  \n",
       "0 2023-01-15  \n",
       "1 2023-01-18  \n",
       "2 2023-02-02  \n",
       "3 2023-02-10  \n",
       "4 2023-02-15  "
      ]
     },
     "execution_count": 5,
     "metadata": {},
     "output_type": "execute_result"
    }
   ],
   "source": [
    "df"
   ]
  },
  {
   "cell_type": "code",
   "execution_count": 6,
   "metadata": {},
   "outputs": [
    {
     "name": "stdout",
     "output_type": "stream",
     "text": [
      "<class 'pandas.core.frame.DataFrame'>\n",
      "RangeIndex: 5 entries, 0 to 4\n",
      "Data columns (total 7 columns):\n",
      " #   Column         Non-Null Count  Dtype         \n",
      "---  ------         --------------  -----         \n",
      " 0   Order ID       5 non-null      int64         \n",
      " 1   Product        5 non-null      object        \n",
      " 2   Quantity       5 non-null      int64         \n",
      " 3   Unit Price     5 non-null      float64       \n",
      " 4   Discount       5 non-null      float64       \n",
      " 5   Customer Name  5 non-null      object        \n",
      " 6   Order Date     5 non-null      datetime64[ns]\n",
      "dtypes: datetime64[ns](1), float64(2), int64(2), object(2)\n",
      "memory usage: 408.0+ bytes\n"
     ]
    }
   ],
   "source": [
    "df.info()"
   ]
  },
  {
   "cell_type": "code",
   "execution_count": null,
   "metadata": {},
   "outputs": [],
   "source": [
    "# - Create a new column in the DataFrame that calculates the total cost for each order (Quantity * (Unit Price - Discount)).\n",
    "# - Group the data by customer and calculate the total amount spent by each customer."
   ]
  },
  {
   "cell_type": "code",
   "execution_count": 8,
   "metadata": {},
   "outputs": [
    {
     "data": {
      "text/html": [
       "<div>\n",
       "<style scoped>\n",
       "    .dataframe tbody tr th:only-of-type {\n",
       "        vertical-align: middle;\n",
       "    }\n",
       "\n",
       "    .dataframe tbody tr th {\n",
       "        vertical-align: top;\n",
       "    }\n",
       "\n",
       "    .dataframe thead th {\n",
       "        text-align: right;\n",
       "    }\n",
       "</style>\n",
       "<table border=\"1\" class=\"dataframe\">\n",
       "  <thead>\n",
       "    <tr style=\"text-align: right;\">\n",
       "      <th></th>\n",
       "      <th>Order ID</th>\n",
       "      <th>Product</th>\n",
       "      <th>Quantity</th>\n",
       "      <th>Unit Price</th>\n",
       "      <th>Discount</th>\n",
       "      <th>Customer Name</th>\n",
       "      <th>Order Date</th>\n",
       "      <th>total_cost</th>\n",
       "    </tr>\n",
       "  </thead>\n",
       "  <tbody>\n",
       "    <tr>\n",
       "      <th>0</th>\n",
       "      <td>101</td>\n",
       "      <td>Product A</td>\n",
       "      <td>10</td>\n",
       "      <td>20.0</td>\n",
       "      <td>0.05</td>\n",
       "      <td>John Smith</td>\n",
       "      <td>2023-01-15</td>\n",
       "      <td>199.5</td>\n",
       "    </tr>\n",
       "    <tr>\n",
       "      <th>1</th>\n",
       "      <td>102</td>\n",
       "      <td>Product B</td>\n",
       "      <td>5</td>\n",
       "      <td>25.0</td>\n",
       "      <td>0.10</td>\n",
       "      <td>Jane Doe</td>\n",
       "      <td>2023-01-18</td>\n",
       "      <td>124.5</td>\n",
       "    </tr>\n",
       "    <tr>\n",
       "      <th>2</th>\n",
       "      <td>103</td>\n",
       "      <td>Product C</td>\n",
       "      <td>8</td>\n",
       "      <td>15.0</td>\n",
       "      <td>0.05</td>\n",
       "      <td>Robert Johnson</td>\n",
       "      <td>2023-02-02</td>\n",
       "      <td>119.6</td>\n",
       "    </tr>\n",
       "    <tr>\n",
       "      <th>3</th>\n",
       "      <td>104</td>\n",
       "      <td>Product A</td>\n",
       "      <td>12</td>\n",
       "      <td>20.0</td>\n",
       "      <td>0.05</td>\n",
       "      <td>Mary Brown</td>\n",
       "      <td>2023-02-10</td>\n",
       "      <td>239.4</td>\n",
       "    </tr>\n",
       "    <tr>\n",
       "      <th>4</th>\n",
       "      <td>105</td>\n",
       "      <td>Product B</td>\n",
       "      <td>6</td>\n",
       "      <td>25.0</td>\n",
       "      <td>0.10</td>\n",
       "      <td>Susan Lee</td>\n",
       "      <td>2023-02-15</td>\n",
       "      <td>149.4</td>\n",
       "    </tr>\n",
       "  </tbody>\n",
       "</table>\n",
       "</div>"
      ],
      "text/plain": [
       "   Order ID    Product  Quantity  Unit Price  Discount   Customer Name  \\\n",
       "0       101  Product A        10        20.0      0.05      John Smith   \n",
       "1       102  Product B         5        25.0      0.10        Jane Doe   \n",
       "2       103  Product C         8        15.0      0.05  Robert Johnson   \n",
       "3       104  Product A        12        20.0      0.05      Mary Brown   \n",
       "4       105  Product B         6        25.0      0.10       Susan Lee   \n",
       "\n",
       "  Order Date  total_cost  \n",
       "0 2023-01-15       199.5  \n",
       "1 2023-01-18       124.5  \n",
       "2 2023-02-02       119.6  \n",
       "3 2023-02-10       239.4  \n",
       "4 2023-02-15       149.4  "
      ]
     },
     "execution_count": 8,
     "metadata": {},
     "output_type": "execute_result"
    }
   ],
   "source": [
    "df[\"total_cost\"] = df[\"Quantity\"]*(df[\"Unit Price\"]-df[\"Discount\"])\n",
    "df.head()"
   ]
  },
  {
   "cell_type": "code",
   "execution_count": 21,
   "metadata": {},
   "outputs": [
    {
     "data": {
      "text/html": [
       "<div>\n",
       "<style scoped>\n",
       "    .dataframe tbody tr th:only-of-type {\n",
       "        vertical-align: middle;\n",
       "    }\n",
       "\n",
       "    .dataframe tbody tr th {\n",
       "        vertical-align: top;\n",
       "    }\n",
       "\n",
       "    .dataframe thead th {\n",
       "        text-align: right;\n",
       "    }\n",
       "</style>\n",
       "<table border=\"1\" class=\"dataframe\">\n",
       "  <thead>\n",
       "    <tr style=\"text-align: right;\">\n",
       "      <th></th>\n",
       "      <th>Customer Name</th>\n",
       "      <th>total_cost</th>\n",
       "    </tr>\n",
       "  </thead>\n",
       "  <tbody>\n",
       "    <tr>\n",
       "      <th>3</th>\n",
       "      <td>Robert Johnson</td>\n",
       "      <td>119.6</td>\n",
       "    </tr>\n",
       "    <tr>\n",
       "      <th>0</th>\n",
       "      <td>Jane Doe</td>\n",
       "      <td>124.5</td>\n",
       "    </tr>\n",
       "    <tr>\n",
       "      <th>4</th>\n",
       "      <td>Susan Lee</td>\n",
       "      <td>149.4</td>\n",
       "    </tr>\n",
       "    <tr>\n",
       "      <th>1</th>\n",
       "      <td>John Smith</td>\n",
       "      <td>199.5</td>\n",
       "    </tr>\n",
       "    <tr>\n",
       "      <th>2</th>\n",
       "      <td>Mary Brown</td>\n",
       "      <td>239.4</td>\n",
       "    </tr>\n",
       "  </tbody>\n",
       "</table>\n",
       "</div>"
      ],
      "text/plain": [
       "    Customer Name  total_cost\n",
       "3  Robert Johnson       119.6\n",
       "0        Jane Doe       124.5\n",
       "4       Susan Lee       149.4\n",
       "1      John Smith       199.5\n",
       "2      Mary Brown       239.4"
      ]
     },
     "execution_count": 21,
     "metadata": {},
     "output_type": "execute_result"
    }
   ],
   "source": [
    "result = df.groupby(\"Customer Name\")[\"total_cost\"].sum().reset_index().sort_values(by=[\"total_cost\"])\n",
    "result.head()"
   ]
  },
  {
   "cell_type": "code",
   "execution_count": 17,
   "metadata": {},
   "outputs": [
    {
     "name": "stdout",
     "output_type": "stream",
     "text": [
      "Enter correct values\n"
     ]
    }
   ],
   "source": [
    "#  - Function take 2 parameter: \n",
    "# 1. top,bottom\n",
    "# 2. number n\n",
    "\n",
    "# top 2 customer\n",
    "\n",
    "def gen_result(type, number):\n",
    "    if type == \"top\":\n",
    "        return result[:number]\n",
    "    elif type == \"bottom\":\n",
    "        return result[-number:]\n",
    "    else:\n",
    "        print(\"Enter correct values\")\n",
    "gen_result(\"fist\", 2)"
   ]
  },
  {
   "cell_type": "code",
   "execution_count": null,
   "metadata": {},
   "outputs": [],
   "source": [
    "''' \n",
    "select\n",
    "sq.Customer_Name,\n",
    "sq.total_cost\n",
    "from\n",
    "(\n",
    "select\n",
    "*,\n",
    "row_number() over(order by total_cost desc) as rank_val\n",
    "from result\n",
    ") as sq\n",
    "where sq.rank_val>=2;\n",
    "'''"
   ]
  },
  {
   "cell_type": "code",
   "execution_count": null,
   "metadata": {},
   "outputs": [],
   "source": [
    "''' \n",
    "from\n",
    "where\n",
    "group by\n",
    "having\n",
    "Select\n",
    "order by\n",
    "limit\n",
    "'''\n"
   ]
  },
  {
   "cell_type": "code",
   "execution_count": null,
   "metadata": {},
   "outputs": [],
   "source": [
    "''' \n",
    "Assume ED electronics company sales electronic items,\n",
    "promotional\n",
    "\n",
    "1.set of data\n",
    "2.table to create to analyze the data\n",
    "3.optimization in sales approach\n",
    "4.ouput : discounts, \n",
    "\n",
    "'''"
   ]
  },
  {
   "cell_type": "code",
   "execution_count": null,
   "metadata": {},
   "outputs": [],
   "source": []
  },
  {
   "cell_type": "code",
   "execution_count": null,
   "metadata": {},
   "outputs": [],
   "source": []
  },
  {
   "cell_type": "code",
   "execution_count": null,
   "metadata": {},
   "outputs": [],
   "source": []
  },
  {
   "cell_type": "code",
   "execution_count": null,
   "metadata": {},
   "outputs": [],
   "source": []
  }
 ],
 "metadata": {
  "kernelspec": {
   "display_name": ".venv",
   "language": "python",
   "name": "python3"
  },
  "language_info": {
   "codemirror_mode": {
    "name": "ipython",
    "version": 3
   },
   "file_extension": ".py",
   "mimetype": "text/x-python",
   "name": "python",
   "nbconvert_exporter": "python",
   "pygments_lexer": "ipython3",
   "version": "3.10.12"
  },
  "orig_nbformat": 4
 },
 "nbformat": 4,
 "nbformat_minor": 2
}
