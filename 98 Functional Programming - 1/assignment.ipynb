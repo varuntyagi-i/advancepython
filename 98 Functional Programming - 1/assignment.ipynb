{
 "cells": [
  {
   "cell_type": "code",
   "execution_count": 24,
   "metadata": {},
   "outputs": [
    {
     "name": "stdout",
     "output_type": "stream",
     "text": [
      "4\n"
     ]
    },
    {
     "data": {
      "text/plain": [
       "0"
      ]
     },
     "execution_count": 24,
     "metadata": {},
     "output_type": "execute_result"
    }
   ],
   "source": [
    "class Solution:\n",
    "    # @param A : string\n",
    "    # @return an integer\n",
    "    def isPalindrome(self, A):\n",
    "        A = ''.join(e.lower() for e in A if e.isalnum())\n",
    "        end = int((len(A)/2))\n",
    "        ans = 1\n",
    "        running_index = 0\n",
    "        print(end)\n",
    "        while end:\n",
    "            if A[running_index] != A[-(running_index+1)] :\n",
    "                ans = 0\n",
    "                break\n",
    "            running_index+=1\n",
    "            end -= 1\n",
    "\n",
    "        return ans\n",
    "\n",
    "a = Solution()\n",
    "# a.isPalindrome(\"A man, a plan, a canal: Panama\")\n",
    "a.isPalindrome(\"race a car\")"
   ]
  },
  {
   "cell_type": "code",
   "execution_count": 26,
   "metadata": {},
   "outputs": [
    {
     "name": "stdout",
     "output_type": "stream",
     "text": [
      "[{'name': 'Alice', 'salary': 180000, 'job': 'data scientist'}, {'name': 'Bob', 'salary': 99000, 'job': 'data engineer'}, {'name': 'Frank', 'salary': 87000, 'job': 'data analyst'}]\n"
     ]
    }
   ],
   "source": [
    "# 2\n",
    "\n",
    "column_names = ['name', 'salary', 'job']\n",
    "db_rows = [('Alice', 180000, 'data scientist'),\n",
    "           ('Bob', 99000, 'data engineer'),\n",
    "           ('Frank', 87000, 'data analyst')]\n",
    "\n",
    "db = [dict(zip(column_names, row)) for row in db_rows]\n",
    "print(db)"
   ]
  },
  {
   "cell_type": "code",
   "execution_count": 56,
   "metadata": {},
   "outputs": [
    {
     "data": {
      "text/plain": [
       "([0, 1, 1, 2, 3, 5, 8, 13, 21], [0, 1, 1, 2, 6, 120, 8, 6227020800, 21])"
      ]
     },
     "execution_count": 56,
     "metadata": {},
     "output_type": "execute_result"
    }
   ],
   "source": [
    "# 4\n",
    "def check_prime(val):\n",
    "    check_ind = int(val/2)\n",
    "    ans = True\n",
    "    while check_ind != 1:\n",
    "        if val%check_ind==0:\n",
    "            ans = False\n",
    "            break\n",
    "\n",
    "        check_ind -= 1\n",
    "    return ans\n",
    "\n",
    "\n",
    "def get_factorial(val):\n",
    "    if val == 1:\n",
    "        return 1\n",
    "    return val*get_factorial(val-1)    \n",
    "\n",
    "def get_febonnacci(val):\n",
    "    #1,1,2,3,5,8,13\n",
    "\n",
    "    res = [0,1]\n",
    "    val-=2\n",
    "    a=0\n",
    "    b=1\n",
    "    while val>0:\n",
    "        c = a+b\n",
    "        a = b\n",
    "        b = c\n",
    "        res.append(c)\n",
    "        val -= 1\n",
    "\n",
    "    return res\n",
    "\n",
    "def func(N):\n",
    "\n",
    "    fibonacci_list=[]\n",
    "    factorial_list=[]\n",
    "    \n",
    "    # YOUR CODE GOES HERE\n",
    "    fibonacci_list = get_febonnacci(N)\n",
    "\n",
    "    for c in fibonacci_list:\n",
    "        if c != 0 and c!=1 and check_prime(c):\n",
    "            factorial_list.append(get_factorial(c))\n",
    "        else:\n",
    "            factorial_list.append(c)\n",
    "\n",
    "    return fibonacci_list, factorial_list\n",
    "\n",
    "func(9)\n",
    "\n"
   ]
  },
  {
   "cell_type": "code",
   "execution_count": 57,
   "metadata": {},
   "outputs": [
    {
     "name": "stdout",
     "output_type": "stream",
     "text": [
      "[(1, 4, 7, 9, 6, 3), (2, 5, 8, 8, 5, 2), (3, 6, 9, 7, 4, 1)]\n"
     ]
    }
   ],
   "source": [
    "# 5\n",
    "\n",
    "list1 = [[1,2,3],[4,5,6],[7,8,9]]\n",
    "list2 = [[9,8,7],[6,5,4],[3,2,1]]\n",
    "ls11,ls12,ls13=list1\n",
    "ls21,ls22,ls23=list2\n",
    "print(list(zip(ls11,ls12,ls13,ls21,ls22,ls23)))"
   ]
  },
  {
   "cell_type": "markdown",
   "metadata": {},
   "source": [
    "## Additional"
   ]
  },
  {
   "cell_type": "code",
   "execution_count": 58,
   "metadata": {},
   "outputs": [
    {
     "name": "stdout",
     "output_type": "stream",
     "text": [
      "(1, 4)\n"
     ]
    }
   ],
   "source": [
    "# 1\n",
    "\n",
    "def func2(c, d):\n",
    "    return c, d\n",
    "\n",
    "def func1(a, b):\n",
    "    c = a**1\n",
    "    d = b**2\n",
    "    return lambda: func2(c,d)\n",
    "\n",
    "result = func1(1, 2)\n",
    "\n",
    "print(result())\n"
   ]
  },
  {
   "cell_type": "code",
   "execution_count": 59,
   "metadata": {},
   "outputs": [
    {
     "name": "stdout",
     "output_type": "stream",
     "text": [
      "0 2 4 6 8 "
     ]
    }
   ],
   "source": [
    "# 2\n",
    "\n",
    "odd=lambda x: bool(x%2)\n",
    "result=[n for n in range(10)]\n",
    "\n",
    "for i in result:\n",
    "    if odd(i):\n",
    "        continue       \n",
    "    else:\n",
    "        print(i, end=\" \")"
   ]
  },
  {
   "cell_type": "code",
   "execution_count": 3,
   "metadata": {},
   "outputs": [
    {
     "name": "stdout",
     "output_type": "stream",
     "text": [
      "[2, [2, 3, 2, 3], 8, 10]\n"
     ]
    }
   ],
   "source": [
    "# 3\n",
    "\n",
    "a=[1,[2,3],4,5]\n",
    "result = lambda x: list(map(lambda y:2*y, x)) if isinstance(x,list) else lambda x:3*x\n",
    "print(result(a))"
   ]
  },
  {
   "cell_type": "code",
   "execution_count": null,
   "metadata": {},
   "outputs": [],
   "source": []
  }
 ],
 "metadata": {
  "kernelspec": {
   "display_name": ".venv",
   "language": "python",
   "name": "python3"
  },
  "language_info": {
   "codemirror_mode": {
    "name": "ipython",
    "version": 3
   },
   "file_extension": ".py",
   "mimetype": "text/x-python",
   "name": "python",
   "nbconvert_exporter": "python",
   "pygments_lexer": "ipython3",
   "version": "3.10.12"
  },
  "orig_nbformat": 4
 },
 "nbformat": 4,
 "nbformat_minor": 2
}
