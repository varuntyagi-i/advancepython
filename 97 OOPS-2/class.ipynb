{
 "cells": [
  {
   "cell_type": "code",
   "execution_count": 1,
   "metadata": {},
   "outputs": [
    {
     "name": "stdout",
     "output_type": "stream",
     "text": [
      "June July22\n"
     ]
    }
   ],
   "source": [
    "class Student:\n",
    "    batch = \"June\" # Class variable, immutable\n",
    "    def __init__(self, Name) -> None:\n",
    "        self.name = Name\n",
    "    def get_person_name(self) -> None:\n",
    "        print(self.name)\n",
    "\n",
    "\n",
    "p1 = Student(\"Needa\")\n",
    "p1.batch = \"July22\" #using object, it creates an instance variable\n",
    "\n",
    "print(Student.batch, p1.batch)"
   ]
  },
  {
   "cell_type": "code",
   "execution_count": 3,
   "metadata": {},
   "outputs": [
    {
     "name": "stdout",
     "output_type": "stream",
     "text": [
      "July22 July22\n"
     ]
    }
   ],
   "source": [
    "class Student:\n",
    "    batch = \"June\" # Class variable, immutable\n",
    "    def __init__(self, Name) -> None:\n",
    "        self.name = Name\n",
    "    def get_person_name(self) -> None:\n",
    "        print(self.name)\n",
    "\n",
    "\n",
    "p1 = Student(\"Needa\")\n",
    "Student.batch = \"July22\" # Class variable, it updates the variable in case exists\n",
    "\n",
    "print(Student.batch, p1.batch)"
   ]
  },
  {
   "cell_type": "code",
   "execution_count": 6,
   "metadata": {},
   "outputs": [
    {
     "name": "stdout",
     "output_type": "stream",
     "text": [
      "['June', 'July22'] ['June', 'July22']\n"
     ]
    }
   ],
   "source": [
    "class Student:\n",
    "    batch = [\"June\"]\n",
    "    def __init__(self, Name) -> None:\n",
    "        self.name = Name\n",
    "    def get_person_name(self) -> None:\n",
    "        print(self.name)\n",
    "\n",
    "\n",
    "p1 = Student(\"Needa\")\n",
    "p1.batch.append(\"July22\")\n",
    "\n",
    "print(Student.batch, p1.batch)"
   ]
  },
  {
   "cell_type": "code",
   "execution_count": 9,
   "metadata": {},
   "outputs": [
    {
     "name": "stdout",
     "output_type": "stream",
     "text": [
      "3\n"
     ]
    }
   ],
   "source": [
    "class A:\n",
    "    counter = 0\n",
    "    def __init__(self) -> None:\n",
    "        A.counter += 1\n",
    "\n",
    "A()\n",
    "obj1 = A()\n",
    "if A():\n",
    "    print(A.counter)"
   ]
  },
  {
   "cell_type": "code",
   "execution_count": 4,
   "metadata": {},
   "outputs": [
    {
     "name": "stdout",
     "output_type": "stream",
     "text": [
      "0 1\n"
     ]
    }
   ],
   "source": [
    "class A:\n",
    "    counter = 0\n",
    "    def __init__(self) -> None:\n",
    "        self.counter += 1 # here we're not updating any class variable\n",
    "\n",
    "A()\n",
    "obj1 = A()\n",
    "if A():\n",
    "    print(A.counter, obj1.counter)"
   ]
  },
  {
   "cell_type": "code",
   "execution_count": 18,
   "metadata": {},
   "outputs": [
    {
     "name": "stdout",
     "output_type": "stream",
     "text": [
      "Varun\n",
      "NeedaVarun\n"
     ]
    }
   ],
   "source": [
    "class Student:\n",
    "    batch = [\"June\"]\n",
    "    def __init__(self, Name) -> None:\n",
    "        self.name = Name\n",
    "\n",
    "    def get_person_name(self) -> None:\n",
    "        print(self.name)\n",
    "\n",
    "    def __str__(self) -> str:\n",
    "        return \"I am object of class student\"\n",
    "\n",
    "    def __eq__(self, __value: object) -> bool:\n",
    "        if self.name == __value.name:\n",
    "            return True\n",
    "        else:\n",
    "            return False\n",
    "\n",
    "    def __add__(self, __value:object) -> str:\n",
    "        print(__value.name)\n",
    "        return self.name+__value.name\n",
    "\n",
    "p1 = Student(\"Needa\")\n",
    "p2 = Student(\"Varun\")\n",
    "print(p1+p2) # this means that you're calling add method with p2 as parameter and p1 as an instance."
   ]
  },
  {
   "cell_type": "markdown",
   "metadata": {},
   "source": [
    "## Inheritence\n",
    "The inheriting class is called a subclass"
   ]
  },
  {
   "cell_type": "code",
   "execution_count": 19,
   "metadata": {},
   "outputs": [
    {
     "name": "stdout",
     "output_type": "stream",
     "text": [
      "Inside Parent class\n"
     ]
    }
   ],
   "source": [
    "class Parent:\n",
    "    def __init__(self) -> None:\n",
    "        print(\"Inside Parent class\")\n",
    "\n",
    "class Child(Parent):\n",
    "    def __init__(self) -> None:\n",
    "        print(\"Inside Child class\")\n",
    "\n",
    "p1 = Parent()"
   ]
  },
  {
   "cell_type": "code",
   "execution_count": 20,
   "metadata": {},
   "outputs": [
    {
     "name": "stdout",
     "output_type": "stream",
     "text": [
      "Inside Child class\n"
     ]
    }
   ],
   "source": [
    "p1 = Child()"
   ]
  },
  {
   "cell_type": "code",
   "execution_count": 21,
   "metadata": {},
   "outputs": [
    {
     "name": "stdout",
     "output_type": "stream",
     "text": [
      "Inside Parent class\n",
      "Inside Child class\n"
     ]
    }
   ],
   "source": [
    "class Parent:\n",
    "    par_var = \"Class Var from Parent\"\n",
    "    def __init__(self) -> None:\n",
    "        print(\"Inside Parent class\")\n",
    "\n",
    "class Child(Parent):\n",
    "    def __init__(self) -> None:\n",
    "        print(\"Inside Child class\")\n",
    "\n",
    "p1 = Parent()\n",
    "c1 = Child()"
   ]
  },
  {
   "cell_type": "code",
   "execution_count": 22,
   "metadata": {},
   "outputs": [
    {
     "data": {
      "text/plain": [
       "('Class Var from Parent', 'Class Var from Parent')"
      ]
     },
     "execution_count": 22,
     "metadata": {},
     "output_type": "execute_result"
    }
   ],
   "source": [
    "p1.par_var, c1.par_var"
   ]
  },
  {
   "cell_type": "code",
   "execution_count": 23,
   "metadata": {},
   "outputs": [
    {
     "name": "stdout",
     "output_type": "stream",
     "text": [
      "Inside Parent class\n",
      "Inside Child class\n"
     ]
    }
   ],
   "source": [
    "class Parent:\n",
    "    par_var = \"Class Var from Parent\"\n",
    "    def __init__(self) -> None:\n",
    "        print(\"Inside Parent class\")\n",
    "    def parent_method(self):\n",
    "        return \"Parent method\"\n",
    "\n",
    "class Child(Parent):\n",
    "    def __init__(self) -> None:\n",
    "        print(\"Inside Child class\")\n",
    "\n",
    "p1 = Parent()\n",
    "c1 = Child()"
   ]
  },
  {
   "cell_type": "code",
   "execution_count": 24,
   "metadata": {},
   "outputs": [
    {
     "data": {
      "text/plain": [
       "'Parent method'"
      ]
     },
     "execution_count": 24,
     "metadata": {},
     "output_type": "execute_result"
    }
   ],
   "source": [
    "c1.parent_method()"
   ]
  },
  {
   "cell_type": "code",
   "execution_count": 25,
   "metadata": {},
   "outputs": [
    {
     "name": "stdout",
     "output_type": "stream",
     "text": [
      "Inside Parent class\n",
      "Inside Child class\n"
     ]
    }
   ],
   "source": [
    "class Parent:\n",
    "    par_var = \"Class Var from Parent\"\n",
    "    def __init__(self) -> None:\n",
    "        print(\"Inside Parent class\")\n",
    "    def parent_method(self):\n",
    "        return \"Parent method\"\n",
    "    def method(self):\n",
    "        return \"Hi from parent\"\n",
    "\n",
    "class Child(Parent):\n",
    "    def __init__(self) -> None:\n",
    "        print(\"Inside Child class\")\n",
    "    def method(self):\n",
    "        return \"Hi from child\"\n",
    "\n",
    "p1 = Parent()\n",
    "c1 = Child()"
   ]
  },
  {
   "cell_type": "code",
   "execution_count": 27,
   "metadata": {},
   "outputs": [
    {
     "data": {
      "text/plain": [
       "'Hi from parent'"
      ]
     },
     "execution_count": 27,
     "metadata": {},
     "output_type": "execute_result"
    }
   ],
   "source": [
    "p1.method()"
   ]
  },
  {
   "cell_type": "code",
   "execution_count": 28,
   "metadata": {},
   "outputs": [
    {
     "data": {
      "text/plain": [
       "'Hi from child'"
      ]
     },
     "execution_count": 28,
     "metadata": {},
     "output_type": "execute_result"
    }
   ],
   "source": [
    "c1.method()"
   ]
  },
  {
   "cell_type": "code",
   "execution_count": 33,
   "metadata": {},
   "outputs": [
    {
     "name": "stdout",
     "output_type": "stream",
     "text": [
      "Inside Parent class\n",
      "Inside Child class\n"
     ]
    }
   ],
   "source": [
    "class Parent:\n",
    "    par_var = \"Class Var from Parent\"\n",
    "    __private_par_var = 100\n",
    "    def __init__(self) -> None:\n",
    "        print(\"Inside Parent class\")\n",
    "    def parent_method(self):\n",
    "        return \"Parent method\"\n",
    "    def method(self):\n",
    "        return self.__private_par_var\n",
    "\n",
    "class Child(Parent):\n",
    "    def __init__(self) -> None:\n",
    "        print(\"Inside Child class\")\n",
    "    def method(self):\n",
    "        return self.__private_par_var\n",
    "\n",
    "p1 = Parent()\n",
    "c1 = Child()"
   ]
  },
  {
   "cell_type": "code",
   "execution_count": 37,
   "metadata": {},
   "outputs": [
    {
     "name": "stdout",
     "output_type": "stream",
     "text": [
      "100\n"
     ]
    }
   ],
   "source": [
    "print(p1.method())"
   ]
  },
  {
   "cell_type": "code",
   "execution_count": 38,
   "metadata": {},
   "outputs": [
    {
     "ename": "AttributeError",
     "evalue": "'Child' object has no attribute '_Child__private_par_var'",
     "output_type": "error",
     "traceback": [
      "\u001b[0;31m---------------------------------------------------------------------------\u001b[0m",
      "\u001b[0;31mAttributeError\u001b[0m                            Traceback (most recent call last)",
      "Cell \u001b[0;32mIn[38], line 1\u001b[0m\n\u001b[0;32m----> 1\u001b[0m c1\u001b[39m.\u001b[39;49mmethod()\n",
      "Cell \u001b[0;32mIn[33], line 15\u001b[0m, in \u001b[0;36mChild.method\u001b[0;34m(self)\u001b[0m\n\u001b[1;32m     14\u001b[0m \u001b[39mdef\u001b[39;00m \u001b[39mmethod\u001b[39m(\u001b[39mself\u001b[39m):\n\u001b[0;32m---> 15\u001b[0m     \u001b[39mreturn\u001b[39;00m \u001b[39mself\u001b[39;49m\u001b[39m.\u001b[39;49m__private_par_var\n",
      "\u001b[0;31mAttributeError\u001b[0m: 'Child' object has no attribute '_Child__private_par_var'"
     ]
    }
   ],
   "source": [
    "c1.method()"
   ]
  },
  {
   "cell_type": "code",
   "execution_count": 42,
   "metadata": {},
   "outputs": [],
   "source": [
    "class SchoolMember:\n",
    "    def __init__(self, Name) -> None:\n",
    "        self.name = Name\n",
    "\n",
    "class Student(SchoolMember):\n",
    "    def __init__(self, Name, Grade) -> None:\n",
    "        self.grade = Grade\n",
    "\n",
    "class Staff(SchoolMember):\n",
    "    def __init__(self, Name, Salary) -> None:\n",
    "        self.name = Name\n",
    "        self.salary = Salary\n",
    "    \n",
    "class Teacher(Staff):\n",
    "    def __init__(self, Name, Salary, Subject) -> None:\n",
    "        self.name = Name\n",
    "        self.salary = Salary\n",
    "        self.subject = Subject"
   ]
  },
  {
   "cell_type": "code",
   "execution_count": 45,
   "metadata": {},
   "outputs": [
    {
     "ename": "AttributeError",
     "evalue": "'Student' object has no attribute 'name'",
     "output_type": "error",
     "traceback": [
      "\u001b[0;31m---------------------------------------------------------------------------\u001b[0m",
      "\u001b[0;31mAttributeError\u001b[0m                            Traceback (most recent call last)",
      "Cell \u001b[0;32mIn[45], line 2\u001b[0m\n\u001b[1;32m      1\u001b[0m s1 \u001b[39m=\u001b[39m Student(\u001b[39m\"\u001b[39m\u001b[39mSachin\u001b[39m\u001b[39m\"\u001b[39m, \u001b[39m\"\u001b[39m\u001b[39mPrimary\u001b[39m\u001b[39m\"\u001b[39m)\n\u001b[0;32m----> 2\u001b[0m \u001b[39mprint\u001b[39m(s1\u001b[39m.\u001b[39;49mname)\n",
      "\u001b[0;31mAttributeError\u001b[0m: 'Student' object has no attribute 'name'"
     ]
    }
   ],
   "source": [
    "s1 = Student(\"Sachin\", \"Primary\")\n",
    "print(s1.name)"
   ]
  },
  {
   "cell_type": "code",
   "execution_count": 46,
   "metadata": {},
   "outputs": [
    {
     "name": "stdout",
     "output_type": "stream",
     "text": [
      "Primary\n"
     ]
    }
   ],
   "source": [
    "print(s1.grade)"
   ]
  },
  {
   "cell_type": "code",
   "execution_count": 49,
   "metadata": {},
   "outputs": [],
   "source": [
    "class SchoolMember:\n",
    "    def __init__(self, Name) -> None:\n",
    "        self.name = Name\n",
    "\n",
    "class Student(SchoolMember):\n",
    "    def __init__(self, Name, Grade) -> None:\n",
    "        # SchoolMember.__init__(self, Name) # Method 1\n",
    "        super().__init__(Name) # Method 2\n",
    "        self.grade = Grade\n",
    "\n",
    "class Staff(SchoolMember):\n",
    "    def __init__(self, Name, Salary) -> None:\n",
    "        super().__init__(Name)\n",
    "        self.salary = Salary\n",
    "    \n",
    "class Teacher(Staff):\n",
    "    def __init__(self, Name, Salary, Subject) -> None:\n",
    "        super().__init__(Name, Salary)\n",
    "        self.subject = Subject"
   ]
  },
  {
   "cell_type": "code",
   "execution_count": 50,
   "metadata": {},
   "outputs": [
    {
     "data": {
      "text/plain": [
       "('Sachin', 'Primary')"
      ]
     },
     "execution_count": 50,
     "metadata": {},
     "output_type": "execute_result"
    }
   ],
   "source": [
    "s1 = Student(\"Sachin\", \"Primary\")\n",
    "s1.name,s1.grade"
   ]
  },
  {
   "cell_type": "code",
   "execution_count": 51,
   "metadata": {},
   "outputs": [],
   "source": [
    "t1 = Teacher(\"Varun\", 10, \"Adv Python\")"
   ]
  },
  {
   "cell_type": "code",
   "execution_count": 53,
   "metadata": {},
   "outputs": [
    {
     "data": {
      "text/plain": [
       "('Varun', 10, 'Adv Python')"
      ]
     },
     "execution_count": 53,
     "metadata": {},
     "output_type": "execute_result"
    }
   ],
   "source": [
    "t1.name, t1.salary, t1.subject"
   ]
  },
  {
   "cell_type": "code",
   "execution_count": 54,
   "metadata": {},
   "outputs": [],
   "source": [
    "class Audio:\n",
    "    def use(self):\n",
    "        print(\"To Listen\")\n",
    "    \n",
    "class Video:\n",
    "    def use(self):\n",
    "        print(\"To see\")\n",
    "\n",
    "class Movie(Video):\n",
    "    def use(self):\n",
    "        return super().use()\n",
    "    \n",
    "m1 = Movie()"
   ]
  },
  {
   "cell_type": "code",
   "execution_count": 55,
   "metadata": {},
   "outputs": [
    {
     "name": "stdout",
     "output_type": "stream",
     "text": [
      "To see\n"
     ]
    }
   ],
   "source": [
    "m1.use()"
   ]
  },
  {
   "cell_type": "code",
   "execution_count": 56,
   "metadata": {},
   "outputs": [
    {
     "name": "stdout",
     "output_type": "stream",
     "text": [
      "To listen\n"
     ]
    }
   ],
   "source": [
    "class Audio:\n",
    "    def use(self):\n",
    "        print(\"To listen\")\n",
    "\n",
    "class Video:\n",
    "    def use(self):\n",
    "        print(\"To see\")\n",
    "\n",
    "class Movie(Audio, Video):\n",
    "    def use(self):\n",
    "        super().use()\n",
    "\n",
    "m1 = Movie()\n",
    "m1.use()"
   ]
  },
  {
   "cell_type": "code",
   "execution_count": 57,
   "metadata": {},
   "outputs": [
    {
     "name": "stdout",
     "output_type": "stream",
     "text": [
      "To see\n"
     ]
    }
   ],
   "source": [
    "class Audio:\n",
    "    def use1(self):\n",
    "        print(\"To listen\")\n",
    "\n",
    "class Video:\n",
    "    def use(self):\n",
    "        print(\"To see\")\n",
    "\n",
    "class Movie(Audio, Video):\n",
    "    def use(self):\n",
    "        super().use()\n",
    "\n",
    "m1 = Movie()\n",
    "m1.use()"
   ]
  },
  {
   "cell_type": "code",
   "execution_count": 60,
   "metadata": {},
   "outputs": [],
   "source": [
    "class A:\n",
    "    x = 10\n",
    "\n",
    "class B(A):\n",
    "    pass\n",
    "\n",
    "class C(B):\n",
    "    pass\n",
    "\n",
    "class D(A):\n",
    "    x=5\n",
    "\n",
    "class E(C,D):\n",
    "    pass"
   ]
  },
  {
   "cell_type": "code",
   "execution_count": 61,
   "metadata": {},
   "outputs": [
    {
     "data": {
      "text/plain": [
       "5"
      ]
     },
     "execution_count": 61,
     "metadata": {},
     "output_type": "execute_result"
    }
   ],
   "source": [
    "e1 = E\n",
    "e1.x"
   ]
  },
  {
   "cell_type": "code",
   "execution_count": 62,
   "metadata": {},
   "outputs": [
    {
     "data": {
      "text/plain": [
       "(__main__.E, __main__.C, __main__.B, __main__.D, __main__.A, object)"
      ]
     },
     "execution_count": 62,
     "metadata": {},
     "output_type": "execute_result"
    }
   ],
   "source": [
    "E.__mro__"
   ]
  },
  {
   "cell_type": "code",
   "execution_count": 63,
   "metadata": {},
   "outputs": [
    {
     "data": {
      "text/plain": [
       "[__main__.E, __main__.C, __main__.B, __main__.D, __main__.A, object]"
      ]
     },
     "execution_count": 63,
     "metadata": {},
     "output_type": "execute_result"
    }
   ],
   "source": [
    "E.mro()"
   ]
  },
  {
   "cell_type": "code",
   "execution_count": 64,
   "metadata": {},
   "outputs": [
    {
     "name": "stdout",
     "output_type": "stream",
     "text": [
      "10\n"
     ]
    }
   ],
   "source": [
    "class BankAccount:\n",
    "    def __init__(self, balance=100):\n",
    "        self.__balance = balance\n",
    "\n",
    "    def get_balance(self):\n",
    "        return self.__balance\n",
    "\n",
    "b1 = BankAccount(10)\n",
    "b1.__balance= 10000000000\n",
    "print(b1.get_balance())"
   ]
  },
  {
   "cell_type": "code",
   "execution_count": 68,
   "metadata": {},
   "outputs": [
    {
     "name": "stdout",
     "output_type": "stream",
     "text": [
      "1000\n"
     ]
    }
   ],
   "source": [
    "class BankAccount:\n",
    "    def __init__(self, balance=100):\n",
    "        self.__balance = balance\n",
    "\n",
    "    def get_balance(self):\n",
    "        return self.__balance\n",
    "    \n",
    "    def set_balance(self, balance):\n",
    "        self.__balance = balance\n",
    "\n",
    "b1 = BankAccount(10)\n",
    "\n",
    "## also known as setter method\n",
    "b1.set_balance(1000)\n",
    "\n",
    "## also known as getter method\n",
    "print(b1.get_balance())"
   ]
  },
  {
   "cell_type": "markdown",
   "metadata": {},
   "source": [
    "## Abstraction (optinal)\n",
    "1. Hides implementation details\n",
    "2. Provides generalized template"
   ]
  },
  {
   "cell_type": "code",
   "execution_count": 71,
   "metadata": {},
   "outputs": [],
   "source": [
    "# why ?\n",
    "class Shape:\n",
    "    def area(self):\n",
    "        pass\n",
    "    \n",
    "class Square(Shape):\n",
    "    def __init__(self, side) -> None:\n",
    "        self.side = side\n",
    "\n",
    "    def area(self):\n",
    "        return self.side**2\n",
    "    \n",
    "class Circle(Shape):\n",
    "    def __init__(self,radius) -> None:\n",
    "        self.radius = radius\n",
    "    # def area(self):\n",
    "    #     return 3.14*self.radius**2"
   ]
  },
  {
   "cell_type": "code",
   "execution_count": 72,
   "metadata": {},
   "outputs": [
    {
     "data": {
      "text/plain": [
       "16"
      ]
     },
     "execution_count": 72,
     "metadata": {},
     "output_type": "execute_result"
    }
   ],
   "source": [
    "s1 = Square(4)\n",
    "s1.area()"
   ]
  },
  {
   "cell_type": "code",
   "execution_count": 73,
   "metadata": {},
   "outputs": [],
   "source": [
    "c1 = Circle(4)\n",
    "c1.area()"
   ]
  },
  {
   "cell_type": "code",
   "execution_count": 76,
   "metadata": {},
   "outputs": [],
   "source": [
    "# why ?\n",
    "'''\n",
    "We want Shape class to act as template (abstract class define what but not how) and \n",
    "every child class inheriting from Shape must override the area method\n",
    "'''\n",
    "\n",
    "from abc import ABC, abstractmethod\n",
    "class Shape(ABC):\n",
    "    @abstractmethod\n",
    "    def area(self):\n",
    "        pass\n",
    "    \n",
    "class Square(Shape):\n",
    "    def __init__(self, side) -> None:\n",
    "        self.side = side\n",
    "\n",
    "    def area(self):\n",
    "        return self.side**2\n",
    "    \n",
    "class Circle(Shape):\n",
    "    def __init__(self,radius) -> None:\n",
    "        self.radius = radius\n",
    "    # def area(self):\n",
    "    #     return 3.14*self.radius**2"
   ]
  },
  {
   "cell_type": "code",
   "execution_count": 77,
   "metadata": {},
   "outputs": [
    {
     "data": {
      "text/plain": [
       "16"
      ]
     },
     "execution_count": 77,
     "metadata": {},
     "output_type": "execute_result"
    }
   ],
   "source": [
    "s1 = Square(4)\n",
    "s1.area()"
   ]
  },
  {
   "cell_type": "code",
   "execution_count": 78,
   "metadata": {},
   "outputs": [
    {
     "ename": "TypeError",
     "evalue": "Can't instantiate abstract class Circle with abstract method area",
     "output_type": "error",
     "traceback": [
      "\u001b[0;31m---------------------------------------------------------------------------\u001b[0m",
      "\u001b[0;31mTypeError\u001b[0m                                 Traceback (most recent call last)",
      "Cell \u001b[0;32mIn[78], line 1\u001b[0m\n\u001b[0;32m----> 1\u001b[0m c1 \u001b[39m=\u001b[39m Circle(\u001b[39m4\u001b[39;49m)\n\u001b[1;32m      2\u001b[0m c1\u001b[39m.\u001b[39marea()\n",
      "\u001b[0;31mTypeError\u001b[0m: Can't instantiate abstract class Circle with abstract method area"
     ]
    }
   ],
   "source": [
    "c1 = Circle(4)\n",
    "c1.area()"
   ]
  },
  {
   "cell_type": "code",
   "execution_count": 79,
   "metadata": {},
   "outputs": [],
   "source": [
    "# why ?\n",
    "from abc import ABC, abstractmethod\n",
    "class Shape(ABC):\n",
    "    @abstractmethod\n",
    "    def area(self):\n",
    "        pass\n",
    "    \n",
    "class Square(Shape):\n",
    "    def __init__(self, side) -> None:\n",
    "        self.side = side\n",
    "\n",
    "    def area(self):\n",
    "        return self.side**2\n",
    "    \n",
    "class Circle(Shape):\n",
    "    def __init__(self,radius) -> None:\n",
    "        self.radius = radius\n",
    "    def area(self):\n",
    "        return 3.14*self.radius**2    "
   ]
  },
  {
   "cell_type": "code",
   "execution_count": 80,
   "metadata": {},
   "outputs": [
    {
     "data": {
      "text/plain": [
       "50.24"
      ]
     },
     "execution_count": 80,
     "metadata": {},
     "output_type": "execute_result"
    }
   ],
   "source": [
    "c1 = Circle(4)\n",
    "c1.area()"
   ]
  },
  {
   "cell_type": "code",
   "execution_count": null,
   "metadata": {},
   "outputs": [],
   "source": []
  },
  {
   "cell_type": "markdown",
   "metadata": {},
   "source": [
    "## __new__"
   ]
  },
  {
   "cell_type": "markdown",
   "metadata": {},
   "source": [
    "new Vs init\n",
    "1\tCalled before init\t- Called after new\n",
    "2\tAccepts a type as the first argument - Accepts an instance as the first argument\n",
    "3\tIs supposed to return an instance of the type received - Is not supposed to return anything\n",
    "4\tUsed to control instance creation -\tUsed to initialize instance variables\n",
    "\n",
    "Talking about the first point. __new__ is called when the instance is first created. This happens before the initialization of the class.\n",
    "By the way, did you note that the first argument to __init__ is always self? This self is the instance of the class. self is what __new__ returns.\n",
    "Coming to the third point, __new__ is supposed to return an instance of the class. Note that if __new__ does not returns anything, __init__ is not called.\n",
    "\n",
    "In Python, that concept is broken down into constructor and initializer. And you might have guessed, __new__ is the constructor and __init__ is the initializer.\n",
    "Please note that __new__ is implicit. Meaning that if you don’t actually need to modify the creation of an instance of the class, you don’t need to have a new method.\n",
    "\n",
    "Link: https://santoshk.dev/posts/2022/__init__-vs-__new__-and-when-to-use-them/"
   ]
  },
  {
   "cell_type": "code",
   "execution_count": 83,
   "metadata": {},
   "outputs": [
    {
     "name": "stdout",
     "output_type": "stream",
     "text": [
      "Derived_Demo's new() invoked\n",
      "Demo's __init__() invoked\n",
      "Demo's new() invoked\n"
     ]
    }
   ],
   "source": [
    "class Demo:\n",
    "    def __new__(self):\n",
    "        self.__init__(self)\n",
    "        print(\"Demo's new() invoked\") # new must always return the instance\n",
    "    def __init__(self): \n",
    "        print(\"Demo's __init__() invoked\")\n",
    "\n",
    "class Derived_Demo(Demo):\n",
    "    def __new__(self):\n",
    "        print(\"Derived_Demo's new() invoked\")\n",
    "    def __init__(self): \n",
    "        print(\"Derived_Demo's __init__() invoked\")\n",
    "\n",
    "def main():\n",
    "    obj1 = Derived_Demo()   \n",
    "    obj2 = Demo() \n",
    "\n",
    "main()"
   ]
  },
  {
   "cell_type": "code",
   "execution_count": null,
   "metadata": {},
   "outputs": [],
   "source": []
  },
  {
   "cell_type": "markdown",
   "metadata": {},
   "source": [
    "Things to ask ion next class \n",
    "- how to set left and right, as while creating class there is no left and right\n",
    "Answer: As mentioned the way you inherit in class eg. class A(B,C, D) so B is left then C then D"
   ]
  },
  {
   "cell_type": "code",
   "execution_count": null,
   "metadata": {},
   "outputs": [],
   "source": []
  }
 ],
 "metadata": {
  "kernelspec": {
   "display_name": ".venv",
   "language": "python",
   "name": "python3"
  },
  "language_info": {
   "codemirror_mode": {
    "name": "ipython",
    "version": 3
   },
   "file_extension": ".py",
   "mimetype": "text/x-python",
   "name": "python",
   "nbconvert_exporter": "python",
   "pygments_lexer": "ipython3",
   "version": "3.10.12"
  },
  "orig_nbformat": 4
 },
 "nbformat": 4,
 "nbformat_minor": 2
}
