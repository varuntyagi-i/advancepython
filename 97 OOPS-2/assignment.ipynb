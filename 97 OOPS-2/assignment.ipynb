{
 "cells": [
  {
   "cell_type": "code",
   "execution_count": 1,
   "metadata": {},
   "outputs": [
    {
     "name": "stdout",
     "output_type": "stream",
     "text": [
      "60\n"
     ]
    }
   ],
   "source": []
  },
  {
   "cell_type": "code",
   "execution_count": 4,
   "metadata": {},
   "outputs": [
    {
     "name": "stdout",
     "output_type": "stream",
     "text": [
      "Help on class student in module __main__:\n",
      "\n",
      "class student(builtins.object)\n",
      " |  Methods defined here:\n",
      " |  \n",
      " |  __init__(self)\n",
      " |      The student class is initialized\n",
      " |  \n",
      " |  print_student(self)\n",
      " |      Returns the student description\n",
      " |  \n",
      " |  ----------------------------------------------------------------------\n",
      " |  Data descriptors defined here:\n",
      " |  \n",
      " |  __dict__\n",
      " |      dictionary for instance variables (if defined)\n",
      " |  \n",
      " |  __weakref__\n",
      " |      list of weak references to the object (if defined)\n",
      "\n"
     ]
    }
   ],
   "source": [
    "# 6\n",
    "class student: \n",
    "    def __init__(self): \n",
    "        '''The student class is initialized'''\n",
    "\n",
    "    def print_student(self): \n",
    "        '''Returns the student description'''\n",
    "        print('student description') \n",
    "\n",
    "help(student)"
   ]
  },
  {
   "cell_type": "code",
   "execution_count": null,
   "metadata": {},
   "outputs": [],
   "source": []
  },
  {
   "cell_type": "code",
   "execution_count": null,
   "metadata": {},
   "outputs": [],
   "source": [
    "# 8\n",
    "class Parent:\n",
    "    def __init__(self):\n",
    "        pass\n",
    "    def print(self):\n",
    "        print(\"60\")\n",
    "\n",
    "class Child(Parent):\n",
    "    def __init__(self):\n",
    "        super().__init__()\n",
    "    def type(self):\n",
    "        self.print()\n",
    "C=Child()\n",
    "C.type()\n",
    "\n",
    "# *******Choose from below options*******"
   ]
  },
  {
   "cell_type": "code",
   "execution_count": 2,
   "metadata": {},
   "outputs": [
    {
     "ename": "TypeError",
     "evalue": "'Child' object is not callable",
     "output_type": "error",
     "traceback": [
      "\u001b[0;31m---------------------------------------------------------------------------\u001b[0m",
      "\u001b[0;31mTypeError\u001b[0m                                 Traceback (most recent call last)",
      "Cell \u001b[0;32mIn[2], line 13\u001b[0m\n\u001b[1;32m     11\u001b[0m         \u001b[39mself\u001b[39m()\u001b[39m.\u001b[39mprint()\n\u001b[1;32m     12\u001b[0m C\u001b[39m=\u001b[39mChild()\n\u001b[0;32m---> 13\u001b[0m C\u001b[39m.\u001b[39;49mtype()\n\u001b[1;32m     15\u001b[0m \u001b[39m# *******Choose from below options*******\u001b[39;00m\n",
      "Cell \u001b[0;32mIn[2], line 11\u001b[0m, in \u001b[0;36mChild.type\u001b[0;34m(self)\u001b[0m\n\u001b[1;32m     10\u001b[0m \u001b[39mdef\u001b[39;00m \u001b[39mtype\u001b[39m(\u001b[39mself\u001b[39m):\n\u001b[0;32m---> 11\u001b[0m     \u001b[39mself\u001b[39;49m()\u001b[39m.\u001b[39mprint()\n",
      "\u001b[0;31mTypeError\u001b[0m: 'Child' object is not callable"
     ]
    }
   ],
   "source": [
    "class Parent:\n",
    "    def __init__(self):\n",
    "        pass\n",
    "    def print(self):\n",
    "        print(\"60\")\n",
    "\n",
    "class Child(Parent):\n",
    "    def __init__(self):\n",
    "        super().__init__()\n",
    "    def type(self):\n",
    "        self().print()\n",
    "C=Child()\n",
    "C.type()\n",
    "\n",
    "# *******Choose from below options*******"
   ]
  },
  {
   "cell_type": "code",
   "execution_count": 3,
   "metadata": {},
   "outputs": [
    {
     "name": "stdout",
     "output_type": "stream",
     "text": [
      "60\n"
     ]
    }
   ],
   "source": [
    "class Parent:\n",
    "    def __init__(self):\n",
    "        pass\n",
    "    def print(self):\n",
    "        print(\"60\")\n",
    "\n",
    "class Child(Parent):\n",
    "    def __init__(self):\n",
    "        super().__init__()\n",
    "    def type(self):\n",
    "        super().print()\n",
    "C=Child()\n",
    "C.type()\n",
    "\n",
    "# *******Choose from below options*******"
   ]
  },
  {
   "cell_type": "markdown",
   "metadata": {},
   "source": [
    "## Additional Problems"
   ]
  },
  {
   "cell_type": "code",
   "execution_count": 15,
   "metadata": {},
   "outputs": [
    {
     "name": "stdout",
     "output_type": "stream",
     "text": [
      "test of child1 called, test of child2 called, test of parent called, "
     ]
    }
   ],
   "source": [
    "# 3\n",
    "class Parent:\n",
    "    def test(self):\n",
    "        print(\"test of parent called\", end=\", \")\n",
    "class Child1(Parent):\n",
    "    def test(self):\n",
    "        print(\"test of child1 called\", end=\", \")\n",
    "        super().test()\n",
    "class Child2(Parent):\n",
    "    def test(self):\n",
    "        print(\"test of child2 called\", end=\", \")\n",
    "        super().test()\n",
    "class Brother(Child1,Child2):\n",
    "    def test2(self):\n",
    "        print(\"test of Brother called\", end=\", \" )\n",
    "\n",
    "obj= Brother()\n",
    "obj.test()"
   ]
  },
  {
   "cell_type": "code",
   "execution_count": 11,
   "metadata": {},
   "outputs": [
    {
     "name": "stdout",
     "output_type": "stream",
     "text": [
      "AI's check ML's check "
     ]
    }
   ],
   "source": [
    "# 4\n",
    "class AI:\n",
    "    def check(self):\n",
    "        return \"AI's check\"\n",
    "    def display(self):\n",
    "        print(self.check(),end=\" \")\n",
    "\n",
    "class ML(AI):\n",
    "    def check(self):\n",
    "        return \"ML's check\"\n",
    "\n",
    "AI().display()\n",
    "ML().display()"
   ]
  },
  {
   "cell_type": "code",
   "execution_count": 14,
   "metadata": {},
   "outputs": [
    {
     "ename": "AttributeError",
     "evalue": "'Employee' object has no attribute 'salary'",
     "output_type": "error",
     "traceback": [
      "\u001b[0;31m---------------------------------------------------------------------------\u001b[0m",
      "\u001b[0;31mAttributeError\u001b[0m                            Traceback (most recent call last)",
      "Cell \u001b[0;32mIn[14], line 37\u001b[0m\n\u001b[1;32m     33\u001b[0m         \u001b[39mself\u001b[39m\u001b[39m.\u001b[39m_salary\u001b[39m=\u001b[39mval\n\u001b[1;32m     35\u001b[0m e1\u001b[39m=\u001b[39mEmployee(\u001b[39m\"\u001b[39m\u001b[39mRahul\u001b[39m\u001b[39m\"\u001b[39m,\u001b[39m200\u001b[39m)\n\u001b[0;32m---> 37\u001b[0m \u001b[39mprint\u001b[39m(e1\u001b[39m.\u001b[39;49msalary)\n",
      "\u001b[0;31mAttributeError\u001b[0m: 'Employee' object has no attribute 'salary'"
     ]
    }
   ],
   "source": [
    "# 5\n",
    "# class Employee:\n",
    "\n",
    "#     def __init__(self, name, val):\n",
    "\n",
    "#         self.__name=name\n",
    "\n",
    "#         self.__salary=val\n",
    "\n",
    "# e1=Employee(\"Rahul\",200)\n",
    "\n",
    "# print(e1.__salary)\n",
    "\n",
    "\n",
    "# class Employee:\n",
    "\n",
    "#     def __init__(self, name, val):\n",
    "\n",
    "#         self._name=name\n",
    "\n",
    "#         self._salary=val\n",
    "\n",
    "# e1=Employee(\"Rahul\",200)\n",
    "\n",
    "# print(e1._salary)\n",
    "\n",
    "class Employee:\n",
    "\n",
    "    def __init__(self, name, val):\n",
    "\n",
    "        self._name=name\n",
    "\n",
    "        self._salary=val\n",
    "\n",
    "e1=Employee(\"Rahul\",200)\n",
    "\n",
    "print(e1.salary)"
   ]
  },
  {
   "cell_type": "code",
   "execution_count": 3,
   "metadata": {},
   "outputs": [
    {
     "name": "stdout",
     "output_type": "stream",
     "text": [
      "Name: Logistic Regression\n",
      "Category: Classification Algo\n",
      "Supervised Learning Algorithm\n",
      "Name: k-Means\n",
      "Category: Clustering Algo\n",
      "Unsupervised Learning Algorithm\n"
     ]
    }
   ],
   "source": [
    "# 2\n",
    "class MachineLearning:\n",
    "    def __init__(self,name,category):\n",
    "        self.name=name\n",
    "        self.category=category\n",
    "        \n",
    "    def getname(self):\n",
    "        return self.name\n",
    "        \n",
    "    def getcategory(self):\n",
    "        return self.category\n",
    "        \n",
    "    def print(self):\n",
    "        print(\"Name:\",self.name)\n",
    "        print(\"Category:\",self.category)\n",
    "\n",
    "class Supervised(MachineLearning):\n",
    "    def __init__(self,name,category):\n",
    "        super().__init__(name, category)\n",
    "        #YOUR CODE GOES HERE\n",
    "    \n",
    "    def type(self):\n",
    "        print(\"Supervised Learning Algorithm\")\n",
    "        #YOUR CODE GOES HERE\n",
    "\n",
    "class Unsupervised(MachineLearning):\n",
    "    def __init__(self,name,category):\n",
    "        super().__init__(name, category)\n",
    "        #YOUR CODE GOES HERE\n",
    "    \n",
    "    def type(self):\n",
    "        print(\"Unsupervised Learning Algorithm\")\n",
    "        #YOUR CODE GOES HERE\n",
    "\n",
    "def mlAnalogy(a,b,c,d):\n",
    "    '''\n",
    "    input=> a,b = name and category for Supervised class\n",
    "            c,d = name and category for Unsupervised class\n",
    "    output=> type() is called for both classes in the end, it should first print the Name and Category then the type of class in new lines\n",
    "    '''\n",
    "\n",
    "    obj1=Supervised(a,b)\n",
    "    obj1.print()\n",
    "    obj1.type()\n",
    "    obj2=Unsupervised(c,d)\n",
    "    obj2.print()\n",
    "    obj2.type()\n",
    "\n",
    "    return None\n",
    "\n",
    "mlAnalogy(\"Logistic Regression\", \"Classification Algo\", \"k-Means\", \"Clustering Algo\")"
   ]
  },
  {
   "cell_type": "code",
   "execution_count": 1,
   "metadata": {},
   "outputs": [
    {
     "name": "stdout",
     "output_type": "stream",
     "text": [
      "True\n"
     ]
    }
   ],
   "source": [
    "# 6\n",
    "class A:\n",
    "\n",
    "  def __init__(self, x, y):\n",
    "\n",
    "    self.x = x\n",
    "    self.y = y\n",
    "\n",
    "  def __str__(self):\n",
    "\n",
    "    return 1\n",
    "  def __eq__(self, other):\n",
    "\n",
    "    return self.x * self.y == other.x * other.y\n",
    "\n",
    "obj1 = A(9, 8)\n",
    "obj2 = A(8, 9)\n",
    "print(obj1 == obj2)\n"
   ]
  },
  {
   "cell_type": "code",
   "execution_count": 5,
   "metadata": {},
   "outputs": [
    {
     "name": "stdout",
     "output_type": "stream",
     "text": [
      "Rachel says, Grrrr!\n"
     ]
    }
   ],
   "source": [
    "# 8\n",
    "class A:\n",
    " def __init__(self, name, sound=\"Grrrr\"):\n",
    "   self.name = name\n",
    "   self.sound = sound\n",
    "\n",
    " def make_noise(self):\n",
    "   print(\"{} says, {}\".format(self.name,self.sound))\n",
    "\n",
    "class B(A):\n",
    " def __init__(self, name=\"Rachel\"):\n",
    "   super().__init__(name, \"Meow!\")\n",
    "\n",
    " def make_noise(self,sound=\"Grrrr!\"):\n",
    "   print(\"{} says, {}\".format(self.name, sound))\n",
    "\n",
    "pet_cat = B()\n",
    "pet_cat.make_noise()"
   ]
  },
  {
   "cell_type": "code",
   "execution_count": 7,
   "metadata": {},
   "outputs": [
    {
     "name": "stdout",
     "output_type": "stream",
     "text": [
      "27 3 0 0\n"
     ]
    }
   ],
   "source": [
    "class Props:\n",
    "    def __init__(self, x, y):\n",
    "        self.x = x\n",
    "        self.y = y\n",
    "\n",
    "class Ball(Props):\n",
    "    def __init__(self, x, y):\n",
    "        super().__init__(x, y)\n",
    "        self.shape = \"o\"\n",
    "        self.number = 1\n",
    "        self.vely = 0\n",
    "        self.velx = 0\n",
    "\n",
    "    def get_x(self):\n",
    "        return self.x\n",
    " \n",
    "    def get_y(self):\n",
    "       return self.y\n",
    "\n",
    "    def get_velx(self):\n",
    "       return self.velx\n",
    " \n",
    "    def get_vely(self):\n",
    "       return self.vely\n",
    "    \n",
    "    def inc_velx(self):\n",
    "       self.velx = self.velx+2\n",
    "    \n",
    "    def inc_vely(self):\n",
    "       self.vely = self.vely+1\n",
    "\n",
    "obj_ball = Ball(27,3)\n",
    "\n",
    "bx = obj_ball.get_x()\n",
    "by = obj_ball.get_y()\n",
    "b_velx = obj_ball.get_velx()\n",
    "b_vely = obj_ball.get_vely()\n",
    "\n",
    "print(bx, by, b_velx, b_vely)"
   ]
  },
  {
   "cell_type": "code",
   "execution_count": null,
   "metadata": {},
   "outputs": [],
   "source": []
  }
 ],
 "metadata": {
  "kernelspec": {
   "display_name": ".venv",
   "language": "python",
   "name": "python3"
  },
  "language_info": {
   "codemirror_mode": {
    "name": "ipython",
    "version": 3
   },
   "file_extension": ".py",
   "mimetype": "text/x-python",
   "name": "python",
   "nbconvert_exporter": "python",
   "pygments_lexer": "ipython3",
   "version": "3.10.12"
  },
  "orig_nbformat": 4
 },
 "nbformat": 4,
 "nbformat_minor": 2
}
