{
 "cells": [
  {
   "cell_type": "code",
   "execution_count": 1,
   "metadata": {},
   "outputs": [
    {
     "name": "stdout",
     "output_type": "stream",
     "text": [
      "5\n",
      "4\n"
     ]
    }
   ],
   "source": [
    "try:\n",
    "  print(a)\n",
    "except ValueError:\n",
    "  a=3\n",
    "  print(a)\n",
    "except:\n",
    "  a=5\n",
    "  print(a)\n",
    "finally:\n",
    "  a=4\n",
    "  print(a)"
   ]
  },
  {
   "cell_type": "code",
   "execution_count": 57,
   "metadata": {},
   "outputs": [
    {
     "data": {
      "text/plain": [
       "3"
      ]
     },
     "execution_count": 57,
     "metadata": {},
     "output_type": "execute_result"
    }
   ],
   "source": [
    "# 3\n",
    "import random\n",
    "# random.randint(3, 6)\n",
    "3 + random.randrange(3)\n",
    "# 3 + random.randrange(4)\n",
    "# random.randrange(3, 6)\n",
    "# random.choice([3, 6])"
   ]
  },
  {
   "cell_type": "code",
   "execution_count": 62,
   "metadata": {},
   "outputs": [
    {
     "name": "stdout",
     "output_type": "stream",
     "text": [
      "120\n"
     ]
    }
   ],
   "source": [
    "from math import factorial\n",
    "print(factorial(5))"
   ]
  },
  {
   "cell_type": "code",
   "execution_count": 3,
   "metadata": {},
   "outputs": [
    {
     "data": {
      "text/plain": [
       "2.5"
      ]
     },
     "execution_count": 3,
     "metadata": {},
     "output_type": "execute_result"
    }
   ],
   "source": [
    "# 4\n",
    "class NullException(Exception):\n",
    "    def __init__(self, *args: object) -> None:\n",
    "        super().__init__(*args)\n",
    "\n",
    "class WrongFormula(Exception):\n",
    "    def __init__(self, *args: object) -> None:\n",
    "        super().__init__(*args)\n",
    "\n",
    "import numpy as np\n",
    "def calc(a,b,c):\n",
    "    \"\"\"\n",
    "    a is list, b is string, c is integer\n",
    "    return the exception in msg \n",
    "    \"\"\"\n",
    "    try:\n",
    "        if len(a)==0:\n",
    "            raise NullException(\"Null value passed\")\n",
    "        elif b == \"Quantile\":\n",
    "            return np.quantile(a,c)\n",
    "        elif b==\"Percentile\":\n",
    "            return np.percentile(a,c)\n",
    "        else:\n",
    "            raise WrongFormula(\"Formula Error: Wrong Formula\")\n",
    "\n",
    "    #YOUR CODE GOES HERE\n",
    "\n",
    "    except NullException as e:\n",
    "        print(e)\n",
    "    \n",
    "    except WrongFormula as e:\n",
    "        print(e)\n",
    "\n",
    "\n",
    "calc([1, 2, 3, 4, 5, 6, 7], \"Percentile\", 25)"
   ]
  },
  {
   "cell_type": "code",
   "execution_count": 4,
   "metadata": {},
   "outputs": [
    {
     "name": "stdout",
     "output_type": "stream",
     "text": [
      "Variable x is not defined\n"
     ]
    }
   ],
   "source": [
    "# 6\n",
    "try:\n",
    "  print(x)\n",
    "except NameError:                       #1\n",
    "  print(\"Variable x is not defined\")\n",
    "except:                                 #2\n",
    "  print(\"Something else went wrong\")"
   ]
  },
  {
   "cell_type": "code",
   "execution_count": 2,
   "metadata": {},
   "outputs": [
    {
     "name": "stdout",
     "output_type": "stream",
     "text": [
      "5.0\n",
      "2.236\n"
     ]
    }
   ],
   "source": [
    "# 5\n",
    "import math\n",
    "\n",
    "def avg_calc(data):\n",
    "    \"\"\"\n",
    "    data is list of integers\n",
    "    returns mean of the given list of numbers, rounded to three decimal.\n",
    "    \"\"\"\n",
    "    \n",
    "    #YOUR CODE GOES HERE\n",
    "    mean = sum(data)/len(data)\n",
    "    return round(mean,3)\n",
    "    \n",
    "def sd_calc(data):\n",
    "\n",
    "    \"\"\"\n",
    "    data is list of integers\n",
    "    returns standard deviation of the given list of numbers, rounded to three decimal.\n",
    "    \"\"\"\n",
    "    n = len(data)\n",
    "    mean = avg_calc(data)\n",
    "    x_mu = list(map(lambda x:(x-mean)**2, data))\n",
    "    #YOUR CODE GOES HERE\n",
    "    sd = math.sqrt(sum(x_mu)/(n-1))\n",
    "\n",
    "    return round(sd,3)\n",
    "\n",
    "print(avg_calc([4, 2, 5, 8, 6]))\n",
    "print(sd_calc([4, 2, 5, 8, 6]))"
   ]
  },
  {
   "cell_type": "markdown",
   "metadata": {},
   "source": [
    "# Additional"
   ]
  },
  {
   "cell_type": "code",
   "execution_count": 5,
   "metadata": {},
   "outputs": [
    {
     "data": {
      "text/plain": [
       "([2, 1, 3], [8, 1, 3], [2, 0, 2])"
      ]
     },
     "execution_count": 5,
     "metadata": {},
     "output_type": "execute_result"
    }
   ],
   "source": [
    "# 1\n",
    "def divide(a,b):\n",
    "    \"\"\" a and b are integers\"\"\"\n",
    "    # YOUR CODE HERE\n",
    "    try:\n",
    "       out = list(map(lambda x,y: x//y, a,b))\n",
    "    except ZeroDivisionError as e:\n",
    "       out = e\n",
    "\n",
    "    return out\n",
    "\n",
    "def multiply(a,b):\n",
    "    \"\"\" a and b are integers\"\"\"\n",
    "    # YOUR CODE HERE\n",
    "    return list(map(lambda x,y: x*y, a,b))\n",
    "\n",
    "def subtract(a,b):\n",
    "    \"\"\" a and b are integers\"\"\"\n",
    "    # YOUR CODE HERE\n",
    "    return list(map(lambda x,y: x-y,a,b))\n",
    "\n",
    "def calci(list1,list2):\n",
    "\n",
    "    \"\"\" both arguments are list here\"\"\"\n",
    "    arr1=[]\n",
    "    arr2=[]\n",
    "    arr3=[]\n",
    "    if len(list1) != len(list2):\n",
    "        print(\"Not same length\")\n",
    "    else:\n",
    "        arr1 = divide(list1, list2)\n",
    "        arr2 = multiply(list1, list2)\n",
    "        arr3 = subtract(list1, list2)\n",
    "        # for i in range(0,len(list1)):\n",
    "        #     arr1.append(divide(list1[i],list2[i]))\n",
    "        #     arr2.append(multiply(list1[i],list2[i]))\n",
    "        #     arr3.append(subtract(list1[i],list2[i]))\n",
    "\n",
    "    return arr1,arr2,arr3\n",
    "\n",
    "calci([4, 1, 3], [2, 1, 1])"
   ]
  },
  {
   "cell_type": "code",
   "execution_count": 31,
   "metadata": {},
   "outputs": [
    {
     "name": "stdout",
     "output_type": "stream",
     "text": [
      "Invalid\n"
     ]
    }
   ],
   "source": [
    "# 2\n",
    "try:\n",
    "  n=int(\"k\")\n",
    "  while 100%n==0:\n",
    "    print(\"Good\")\n",
    "    \n",
    "except ValueError:\n",
    "  print(\"Invalid\")"
   ]
  },
  {
   "cell_type": "code",
   "execution_count": 16,
   "metadata": {},
   "outputs": [
    {
     "name": "stdout",
     "output_type": "stream",
     "text": [
      "except block\n",
      "integer\n",
      "integer\n"
     ]
    }
   ],
   "source": [
    "# 3\n",
    "def even(x):\n",
    "  try:\n",
    "    if x%2==0:\n",
    "      return \"even\"\n",
    "    else:\n",
    "      raise Exception\n",
    "  except:\n",
    "    print(\"except block\")\n",
    "    return \"odd\"\n",
    "  finally:\n",
    "    return \"integer\"\n",
    "\n",
    "print(even(5))    #A\n",
    "print(even(4))    #B"
   ]
  },
  {
   "cell_type": "code",
   "execution_count": 18,
   "metadata": {},
   "outputs": [
    {
     "name": "stdout",
     "output_type": "stream",
     "text": [
      "8\n",
      "35\n",
      "3\n",
      "83\n",
      "6\n",
      "88\n",
      "37\n",
      "18\n",
      "2\n",
      "96\n",
      "78\n",
      "41\n",
      "92\n",
      "98\n",
      "89\n",
      "48\n",
      "7\n",
      "65\n",
      "60\n",
      "73\n",
      "77\n",
      "27\n",
      "84\n",
      "50\n",
      "46\n",
      "20\n",
      "40\n",
      "21\n",
      "1\n",
      "86\n",
      "51\n",
      "61\n",
      "91\n",
      "15\n",
      "23\n",
      "30\n",
      "62\n",
      "71\n",
      "43\n",
      "72\n",
      "13\n",
      "59\n",
      "93\n",
      "82\n",
      "26\n",
      "19\n",
      "22\n",
      "31\n",
      "99\n",
      "0\n",
      "44\n",
      "29\n",
      "54\n",
      "80\n",
      "87\n",
      "24\n",
      "17\n",
      "55\n",
      "57\n",
      "42\n",
      "81\n",
      "28\n",
      "45\n",
      "14\n",
      "39\n",
      "58\n",
      "47\n",
      "75\n",
      "33\n",
      "12\n",
      "11\n",
      "97\n",
      "16\n",
      "79\n",
      "68\n",
      "56\n",
      "90\n",
      "74\n",
      "85\n",
      "76\n",
      "53\n",
      "9\n",
      "25\n",
      "67\n",
      "70\n",
      "64\n",
      "32\n",
      "36\n",
      "5\n",
      "10\n",
      "38\n",
      "66\n",
      "94\n",
      "4\n",
      "63\n",
      "69\n",
      "95\n",
      "52\n",
      "49\n",
      "34\n"
     ]
    }
   ],
   "source": [
    "# 4\n",
    "import random\n",
    "\n",
    "array = list(range(100))\n",
    "random.shuffle(array)\n",
    "while len(array) != 0:\n",
    "      print(array.pop())"
   ]
  },
  {
   "cell_type": "code",
   "execution_count": 20,
   "metadata": {},
   "outputs": [
    {
     "name": "stdout",
     "output_type": "stream",
     "text": [
      "123.02\n"
     ]
    }
   ],
   "source": [
    "# 6\n",
    "import math\n",
    "def roundup(a, digits):\n",
    "       n = math.pow(10,-digits)#blank1\n",
    "\n",
    "       return round(math.ceil(a/n)*n,digits)#blank2\n",
    "print(roundup(123.01247,2))"
   ]
  },
  {
   "cell_type": "code",
   "execution_count": 25,
   "metadata": {},
   "outputs": [
    {
     "name": "stdout",
     "output_type": "stream",
     "text": [
      "2.72\n"
     ]
    }
   ],
   "source": [
    "# 7\n",
    "import math\n",
    "result = 1\n",
    "for i in range(1,7):\n",
    "     result += 1/math.factorial(i)#blank1\n",
    "print(round(result,2))"
   ]
  },
  {
   "cell_type": "code",
   "execution_count": 30,
   "metadata": {},
   "outputs": [
    {
     "data": {
      "text/plain": [
       "18.632968094214082"
      ]
     },
     "execution_count": 30,
     "metadata": {},
     "output_type": "execute_result"
    }
   ],
   "source": [
    "# 8\n",
    "\n",
    "import math\n",
    "import numpy as np\n",
    "a=[1,2,3,45]\n",
    "\n",
    "np.std(a)"
   ]
  },
  {
   "cell_type": "code",
   "execution_count": null,
   "metadata": {},
   "outputs": [],
   "source": []
  },
  {
   "cell_type": "code",
   "execution_count": null,
   "metadata": {},
   "outputs": [],
   "source": []
  },
  {
   "cell_type": "markdown",
   "metadata": {},
   "source": [
    "Questions to ask:\n",
    " Additinal ques 3,"
   ]
  }
 ],
 "metadata": {
  "kernelspec": {
   "display_name": ".venv",
   "language": "python",
   "name": "python3"
  },
  "language_info": {
   "codemirror_mode": {
    "name": "ipython",
    "version": 3
   },
   "file_extension": ".py",
   "mimetype": "text/x-python",
   "name": "python",
   "nbconvert_exporter": "python",
   "pygments_lexer": "ipython3",
   "version": "3.10.12"
  },
  "orig_nbformat": 4
 },
 "nbformat": 4,
 "nbformat_minor": 2
}
