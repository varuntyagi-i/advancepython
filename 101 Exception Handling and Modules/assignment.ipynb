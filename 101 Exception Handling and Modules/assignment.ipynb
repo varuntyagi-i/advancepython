{
 "cells": [
  {
   "cell_type": "code",
   "execution_count": 1,
   "metadata": {},
   "outputs": [
    {
     "name": "stdout",
     "output_type": "stream",
     "text": [
      "5\n",
      "4\n"
     ]
    }
   ],
   "source": [
    "try:\n",
    "  print(a)\n",
    "except ValueError:\n",
    "  a=3\n",
    "  print(a)\n",
    "except:\n",
    "  a=5\n",
    "  print(a)\n",
    "finally:\n",
    "  a=4\n",
    "  print(a)"
   ]
  },
  {
   "cell_type": "code",
   "execution_count": 57,
   "metadata": {},
   "outputs": [
    {
     "data": {
      "text/plain": [
       "3"
      ]
     },
     "execution_count": 57,
     "metadata": {},
     "output_type": "execute_result"
    }
   ],
   "source": [
    "# 3\n",
    "import random\n",
    "# random.randint(3, 6)\n",
    "3 + random.randrange(3)\n",
    "# 3 + random.randrange(4)\n",
    "# random.randrange(3, 6)\n",
    "# random.choice([3, 6])"
   ]
  },
  {
   "cell_type": "code",
   "execution_count": 62,
   "metadata": {},
   "outputs": [
    {
     "name": "stdout",
     "output_type": "stream",
     "text": [
      "120\n"
     ]
    }
   ],
   "source": [
    "from math import factorial\n",
    "print(factorial(5))"
   ]
  },
  {
   "cell_type": "code",
   "execution_count": 3,
   "metadata": {},
   "outputs": [
    {
     "data": {
      "text/plain": [
       "2.5"
      ]
     },
     "execution_count": 3,
     "metadata": {},
     "output_type": "execute_result"
    }
   ],
   "source": [
    "# 4\n",
    "class NullException(Exception):\n",
    "    def __init__(self, *args: object) -> None:\n",
    "        super().__init__(*args)\n",
    "\n",
    "class WrongFormula(Exception):\n",
    "    def __init__(self, *args: object) -> None:\n",
    "        super().__init__(*args)\n",
    "\n",
    "import numpy as np\n",
    "def calc(a,b,c):\n",
    "    \"\"\"\n",
    "    a is list, b is string, c is integer\n",
    "    return the exception in msg \n",
    "    \"\"\"\n",
    "    try:\n",
    "        if len(a)==0:\n",
    "            raise NullException(\"Null value passed\")\n",
    "        elif b == \"Quantile\":\n",
    "            return np.quantile(a,c)\n",
    "        elif b==\"Percentile\":\n",
    "            return np.percentile(a,c)\n",
    "        else:\n",
    "            raise WrongFormula(\"Formula Error: Wrong Formula\")\n",
    "\n",
    "    #YOUR CODE GOES HERE\n",
    "\n",
    "    except NullException as e:\n",
    "        print(e)\n",
    "    \n",
    "    except WrongFormula as e:\n",
    "        print(e)\n",
    "\n",
    "\n",
    "calc([1, 2, 3, 4, 5, 6, 7], \"Percentile\", 25)"
   ]
  },
  {
   "cell_type": "code",
   "execution_count": 4,
   "metadata": {},
   "outputs": [
    {
     "name": "stdout",
     "output_type": "stream",
     "text": [
      "Variable x is not defined\n"
     ]
    }
   ],
   "source": [
    "# 6\n",
    "try:\n",
    "  print(x)\n",
    "except NameError:                       #1\n",
    "  print(\"Variable x is not defined\")\n",
    "except:                                 #2\n",
    "  print(\"Something else went wrong\")"
   ]
  },
  {
   "cell_type": "code",
   "execution_count": null,
   "metadata": {},
   "outputs": [],
   "source": []
  }
 ],
 "metadata": {
  "kernelspec": {
   "display_name": ".venv",
   "language": "python",
   "name": "python3"
  },
  "language_info": {
   "codemirror_mode": {
    "name": "ipython",
    "version": 3
   },
   "file_extension": ".py",
   "mimetype": "text/x-python",
   "name": "python",
   "nbconvert_exporter": "python",
   "pygments_lexer": "ipython3",
   "version": "3.10.12"
  },
  "orig_nbformat": 4
 },
 "nbformat": 4,
 "nbformat_minor": 2
}
