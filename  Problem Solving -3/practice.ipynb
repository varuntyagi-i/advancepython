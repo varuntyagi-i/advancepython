{
 "cells": [
  {
   "cell_type": "code",
   "execution_count": 1,
   "metadata": {},
   "outputs": [
    {
     "name": "stdout",
     "output_type": "stream",
     "text": [
      "1\n",
      "2\n",
      "3\n",
      "4\n"
     ]
    }
   ],
   "source": [
    "class A:\n",
    "    def __init__(self, *args) -> None:\n",
    "        for ele in args:\n",
    "            print(ele)\n",
    "\n",
    "a = A(1,2,3,4)"
   ]
  },
  {
   "cell_type": "code",
   "execution_count": 4,
   "metadata": {},
   "outputs": [
    {
     "name": "stdout",
     "output_type": "stream",
     "text": [
      "Scraping URL https://www.google.com/\n"
     ]
    },
    {
     "ename": "AttributeError",
     "evalue": "'Response' object has no attribute 'txt'",
     "output_type": "error",
     "traceback": [
      "\u001b[0;31m---------------------------------------------------------------------------\u001b[0m",
      "\u001b[0;31mAttributeError\u001b[0m                            Traceback (most recent call last)",
      "\u001b[1;32m/home/varun/Documents/workspace/neoversity/8 Advance Python/ Problem Solving -3/practice.ipynb Cell 2\u001b[0m line \u001b[0;36m1\n\u001b[1;32m      <a href='vscode-notebook-cell:/home/varun/Documents/workspace/neoversity/8%20Advance%20Python/%20Problem%20Solving%20-3/practice.ipynb#W1sZmlsZQ%3D%3D?line=7'>8</a>\u001b[0m     dict1[url] \u001b[39m=\u001b[39m (response,response\u001b[39m.\u001b[39mtxt)\n\u001b[1;32m     <a href='vscode-notebook-cell:/home/varun/Documents/workspace/neoversity/8%20Advance%20Python/%20Problem%20Solving%20-3/practice.ipynb#W1sZmlsZQ%3D%3D?line=9'>10</a>\u001b[0m urls \u001b[39m=\u001b[39m [\u001b[39m'\u001b[39m\u001b[39mhttps://www.google.com/\u001b[39m\u001b[39m'\u001b[39m, \u001b[39m'\u001b[39m\u001b[39mhttps://www.linkedin.com/feed/\u001b[39m\u001b[39m'\u001b[39m, \u001b[39m'\u001b[39m\u001b[39mhttps://www.youtube.com/\u001b[39m\u001b[39m'\u001b[39m]\n\u001b[0;32m---> <a href='vscode-notebook-cell:/home/varun/Documents/workspace/neoversity/8%20Advance%20Python/%20Problem%20Solving%20-3/practice.ipynb#W1sZmlsZQ%3D%3D?line=11'>12</a>\u001b[0m scrape_url(urls[\u001b[39m0\u001b[39;49m])\n",
      "\u001b[1;32m/home/varun/Documents/workspace/neoversity/8 Advance Python/ Problem Solving -3/practice.ipynb Cell 2\u001b[0m line \u001b[0;36m8\n\u001b[1;32m      <a href='vscode-notebook-cell:/home/varun/Documents/workspace/neoversity/8%20Advance%20Python/%20Problem%20Solving%20-3/practice.ipynb#W1sZmlsZQ%3D%3D?line=5'>6</a>\u001b[0m \u001b[39mprint\u001b[39m(\u001b[39mf\u001b[39m\u001b[39m'\u001b[39m\u001b[39mScraping URL \u001b[39m\u001b[39m{\u001b[39;00murl\u001b[39m}\u001b[39;00m\u001b[39m'\u001b[39m)\n\u001b[1;32m      <a href='vscode-notebook-cell:/home/varun/Documents/workspace/neoversity/8%20Advance%20Python/%20Problem%20Solving%20-3/practice.ipynb#W1sZmlsZQ%3D%3D?line=6'>7</a>\u001b[0m response \u001b[39m=\u001b[39m requests\u001b[39m.\u001b[39mget(url)\n\u001b[0;32m----> <a href='vscode-notebook-cell:/home/varun/Documents/workspace/neoversity/8%20Advance%20Python/%20Problem%20Solving%20-3/practice.ipynb#W1sZmlsZQ%3D%3D?line=7'>8</a>\u001b[0m dict1[url] \u001b[39m=\u001b[39m (response,response\u001b[39m.\u001b[39;49mtxt)\n",
      "\u001b[0;31mAttributeError\u001b[0m: 'Response' object has no attribute 'txt'"
     ]
    }
   ],
   "source": [
    "import threading\n",
    "import requests\n",
    "\n",
    "dict1={}\n",
    "def scrape_url(url):\n",
    "    print(f'Scraping URL {url}')\n",
    "    response = requests.get(url)\n",
    "    dict1[url] = (response,response.txt)\n",
    "\n",
    "urls = ['https://www.google.com/', 'https://www.linkedin.com/feed/', 'https://www.youtube.com/']\n",
    "\n",
    "scrape_url(urls[0])"
   ]
  },
  {
   "cell_type": "code",
   "execution_count": 5,
   "metadata": {},
   "outputs": [
    {
     "name": "stdout",
     "output_type": "stream",
     "text": [
      "16\n"
     ]
    }
   ],
   "source": [
    "import multiprocessing\n",
    "print(multiprocessing.cpu_count())"
   ]
  },
  {
   "cell_type": "code",
   "execution_count": 12,
   "metadata": {},
   "outputs": [
    {
     "name": "stdout",
     "output_type": "stream",
     "text": [
      "Worker 1 started\n",
      "Do some CPU Intensive\n",
      "Worker 1 finishedWorker 2 started\n",
      "\n",
      "Do some CPU Intensive\n",
      "Worker 2 finished\n",
      "All Workers finished\n"
     ]
    }
   ],
   "source": [
    "def worker(n):\n",
    "    print(f'Worker {n} started')\n",
    "    print(\"Do some CPU Intensive\")\n",
    "    print(f'Worker {n} finished')\n",
    "\n",
    "p1 = multiprocessing.Process(target=worker, args=(1,))\n",
    "p2 = multiprocessing.Process(target=worker, args=(2,))\n",
    "\n",
    "# start the process\n",
    "p1.start()\n",
    "p2.start()\n",
    "\n",
    "# wait for both process to finished\n",
    "p1.join()\n",
    "p2.join()\n",
    "\n",
    "print(\"All Workers finished\")"
   ]
  },
  {
   "cell_type": "code",
   "execution_count": null,
   "metadata": {},
   "outputs": [],
   "source": []
  },
  {
   "cell_type": "code",
   "execution_count": null,
   "metadata": {},
   "outputs": [],
   "source": []
  }
 ],
 "metadata": {
  "kernelspec": {
   "display_name": ".venv",
   "language": "python",
   "name": "python3"
  },
  "language_info": {
   "codemirror_mode": {
    "name": "ipython",
    "version": 3
   },
   "file_extension": ".py",
   "mimetype": "text/x-python",
   "name": "python",
   "nbconvert_exporter": "python",
   "pygments_lexer": "ipython3",
   "version": "3.10.12"
  },
  "orig_nbformat": 4
 },
 "nbformat": 4,
 "nbformat_minor": 2
}
